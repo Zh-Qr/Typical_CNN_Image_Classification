{
 "cells": [
  {
   "cell_type": "code",
   "execution_count": 6,
   "id": "293fb080",
   "metadata": {},
   "outputs": [
    {
     "name": "stdout",
     "output_type": "stream",
     "text": [
      "环境转变完毕\n"
     ]
    }
   ],
   "source": [
    "import keras\n",
    "import numpy as np\n",
    "import tensorflow as tf\n",
    "import torch\n",
    "from torch import nn\n",
    "import torch.optim as optim\n",
    "import torch.nn.functional as F\n",
    "from torchvision import datasets, transforms\n",
    "from torch.utils.data import DataLoader\n",
    "import matplotlib.pyplot as plt\n",
    "import torchvision\n",
    "import sklearn\n",
    "import tempfile\n",
    "import sys\n",
    "from sklearn.metrics import classification_report, confusion_matrix\n",
    "\n",
    "print(\"环境准备完毕\")"
   ]
  },
  {
   "cell_type": "markdown",
   "id": "60328510",
   "metadata": {
    "inputHidden": false
   },
   "source": [
    "## 加载数据集 "
   ]
  },
  {
   "cell_type": "code",
   "execution_count": 7,
   "id": "4519c528",
   "metadata": {},
   "outputs": [
    {
     "name": "stdout",
     "output_type": "stream",
     "text": [
      "Downloading http://fashion-mnist.s3-website.eu-central-1.amazonaws.com/train-images-idx3-ubyte.gz\n",
      "Downloading http://fashion-mnist.s3-website.eu-central-1.amazonaws.com/train-images-idx3-ubyte.gz to /tmp/tmpn4nu78o0/FashionMNIST/raw/train-images-idx3-ubyte.gz\n"
     ]
    },
    {
     "data": {
      "application/vnd.jupyter.widget-view+json": {
       "model_id": "87384918aa4e4822b0552b0c06661d3f",
       "version_major": 2,
       "version_minor": 0
      },
      "text/plain": [
       "  0%|          | 0/26421880 [00:00<?, ?it/s]"
      ]
     },
     "metadata": {},
     "output_type": "display_data"
    },
    {
     "name": "stdout",
     "output_type": "stream",
     "text": [
      "Extracting /tmp/tmpn4nu78o0/FashionMNIST/raw/train-images-idx3-ubyte.gz to /tmp/tmpn4nu78o0/FashionMNIST/raw\n",
      "\n",
      "Downloading http://fashion-mnist.s3-website.eu-central-1.amazonaws.com/train-labels-idx1-ubyte.gz\n",
      "Downloading http://fashion-mnist.s3-website.eu-central-1.amazonaws.com/train-labels-idx1-ubyte.gz to /tmp/tmpn4nu78o0/FashionMNIST/raw/train-labels-idx1-ubyte.gz\n"
     ]
    },
    {
     "data": {
      "application/vnd.jupyter.widget-view+json": {
       "model_id": "56abcb81d4624a99866b57ae8dbc53ed",
       "version_major": 2,
       "version_minor": 0
      },
      "text/plain": [
       "  0%|          | 0/29515 [00:00<?, ?it/s]"
      ]
     },
     "metadata": {},
     "output_type": "display_data"
    },
    {
     "name": "stdout",
     "output_type": "stream",
     "text": [
      "Extracting /tmp/tmpn4nu78o0/FashionMNIST/raw/train-labels-idx1-ubyte.gz to /tmp/tmpn4nu78o0/FashionMNIST/raw\n",
      "\n",
      "Downloading http://fashion-mnist.s3-website.eu-central-1.amazonaws.com/t10k-images-idx3-ubyte.gz\n",
      "Downloading http://fashion-mnist.s3-website.eu-central-1.amazonaws.com/t10k-images-idx3-ubyte.gz to /tmp/tmpn4nu78o0/FashionMNIST/raw/t10k-images-idx3-ubyte.gz\n"
     ]
    },
    {
     "data": {
      "application/vnd.jupyter.widget-view+json": {
       "model_id": "567f21cedaef4367a062a17e1d903d4e",
       "version_major": 2,
       "version_minor": 0
      },
      "text/plain": [
       "  0%|          | 0/4422102 [00:00<?, ?it/s]"
      ]
     },
     "metadata": {},
     "output_type": "display_data"
    },
    {
     "name": "stdout",
     "output_type": "stream",
     "text": [
      "Extracting /tmp/tmpn4nu78o0/FashionMNIST/raw/t10k-images-idx3-ubyte.gz to /tmp/tmpn4nu78o0/FashionMNIST/raw\n",
      "\n",
      "Downloading http://fashion-mnist.s3-website.eu-central-1.amazonaws.com/t10k-labels-idx1-ubyte.gz\n",
      "Downloading http://fashion-mnist.s3-website.eu-central-1.amazonaws.com/t10k-labels-idx1-ubyte.gz to /tmp/tmpn4nu78o0/FashionMNIST/raw/t10k-labels-idx1-ubyte.gz\n"
     ]
    },
    {
     "data": {
      "application/vnd.jupyter.widget-view+json": {
       "model_id": "752797a3c9a34807bdadc7578e517a08",
       "version_major": 2,
       "version_minor": 0
      },
      "text/plain": [
       "  0%|          | 0/5148 [00:00<?, ?it/s]"
      ]
     },
     "metadata": {},
     "output_type": "display_data"
    },
    {
     "name": "stdout",
     "output_type": "stream",
     "text": [
      "Extracting /tmp/tmpn4nu78o0/FashionMNIST/raw/t10k-labels-idx1-ubyte.gz to /tmp/tmpn4nu78o0/FashionMNIST/raw\n",
      "\n"
     ]
    }
   ],
   "source": [
    "def load_data_fashion_mnist(mnist_train, mnist_test, batch_size):\n",
    "    if sys.platform.startswith('win'):\n",
    "        num_workers = 0\n",
    "    else:\n",
    "        num_workers = 4\n",
    "    train_iter = DataLoader(mnist_train, batch_size=batch_size, shuffle=True, num_workers=num_workers)\n",
    "    test_iter = DataLoader(mnist_test, batch_size=batch_size, shuffle=False, num_workers=num_workers)\n",
    "    return train_iter, test_iter\n",
    "\n",
    "# 使用临时目录\n",
    "with tempfile.TemporaryDirectory() as tmpdirname:\n",
    "    train_loader = DataLoader(\n",
    "        datasets.FashionMNIST(\n",
    "            root=tmpdirname, \n",
    "            train=True, \n",
    "            transform=transforms.ToTensor(), \n",
    "            download=True\n",
    "        ), \n",
    "        batch_size=64, \n",
    "        shuffle=True\n",
    "    )\n",
    "    test_loader = DataLoader(\n",
    "        datasets.FashionMNIST(\n",
    "            root=tmpdirname, \n",
    "            train=False, \n",
    "            transform=transforms.ToTensor(), \n",
    "            download=True\n",
    "        ), \n",
    "        batch_size=64, \n",
    "        shuffle=False\n",
    "    )\n",
    "\n",
    "    mnist_train = torchvision.datasets.FashionMNIST(\n",
    "        root=tmpdirname, \n",
    "        train=True, \n",
    "        download=True, \n",
    "        transform=transforms.ToTensor()\n",
    "    )\n",
    "    mnist_test = torchvision.datasets.FashionMNIST(\n",
    "        root=tmpdirname, \n",
    "        train=False, \n",
    "        download=True, \n",
    "        transform=transforms.ToTensor()\n",
    "    )\n",
    "\n",
    "    class_names = ['T-shirt/top', 'Trouser', 'Pullover', 'Dress', 'Coat', 'Sandal', 'Shirt', 'Sneaker', 'Bag', 'Ankle boot']\n",
    "\n",
    "\n",
    "batch_size = 64\n",
    "train_iter, test_iter = load_data_fashion_mnist(mnist_train, mnist_test, batch_size)\n",
    "\n",
    "device = torch.device('cuda' if torch.cuda.is_available() else 'cpu')\n",
    "\n",
    "save_dir = 'results/process_picture/'\n",
    "weight_dir = 'results/weight/'\n",
    "\n",
    "#训练参数\n",
    "lr, num_epochs = 0.001, 3"
   ]
  },
  {
   "cell_type": "markdown",
   "id": "3e740629",
   "metadata": {
    "inputHidden": false
   },
   "source": [
    "## 实际例子测试函数 "
   ]
  },
  {
   "cell_type": "code",
   "execution_count": 8,
   "id": "f0e7b428",
   "metadata": {},
   "outputs": [],
   "source": [
    "def test_example(net,test_loader):\n",
    "    net.eval()\n",
    "    test_images, test_labels = next(iter(test_loader))\n",
    "    test_images, test_labels = test_images.to(device), test_labels.to(device)  # 将数据移动到 GPU 上\n",
    "    with torch.no_grad():\n",
    "        output = net(test_images[:5])\n",
    "\n",
    "    # 将输出转换为类别索引\n",
    "    predicted_labels = torch.argmax(output, dim=1)\n",
    "    actual_labels = test_labels[:5]\n",
    "\n",
    "    # 打印转换后的预测结果和实际标签\n",
    "    class_names = ['T-shirt/top', 'Trouser', 'Pullover', 'Dress', 'Coat', 'Sandal', 'Shirt', 'Sneaker', 'Bag', 'Ankle boot']\n",
    "    print(\"Predicted labels:\\n\", [class_names[label] for label in predicted_labels.cpu().numpy()])\n",
    "    print(\"Actual labels:\\n\", [class_names[label] for label in actual_labels.cpu().numpy()])\n",
    "\n",
    "    # 可视化第一个图像和预测结果\n",
    "    image = test_images[1].cpu().numpy().transpose((1, 2, 0))\n",
    "    plt.imshow(image.squeeze(), cmap='gray')  # 将图像数据移动回 CPU\n",
    "    plt.title(f'Predicted: {class_names[predicted_labels[1].item()]}, Actual: {class_names[actual_labels[1].item()]}')\n",
    "    plt.show()"
   ]
  },
  {
   "cell_type": "markdown",
   "id": "5189dbb5",
   "metadata": {
    "inputHidden": false
   },
   "source": [
    "## 总体预测效果函数 "
   ]
  },
  {
   "cell_type": "code",
   "execution_count": 9,
   "id": "2b6f1c3d",
   "metadata": {},
   "outputs": [],
   "source": [
    "def test_all(net,test_loader):\n",
    "    net.to(device)\n",
    "    net.eval()  # 设置为评估模式\n",
    "    # 进行预测并收集测试结果\n",
    "    all_preds = []\n",
    "    all_labels = []\n",
    "    with torch.no_grad():\n",
    "        for X, y in test_loader:\n",
    "            X, y = X.to(device), y.to(device)\n",
    "            outputs = net(X)\n",
    "            preds = outputs.argmax(dim=1)\n",
    "            all_preds.extend(preds.cpu().numpy())\n",
    "            all_labels.extend(y.cpu().numpy())\n",
    "\n",
    "    # 计算评估指标\n",
    "    print(\"Classification Report:\")\n",
    "    print(classification_report(all_labels, all_preds, target_names=mnist_test.classes))"
   ]
  },
  {
   "cell_type": "markdown",
   "id": "bfb9e1a8",
   "metadata": {
    "inputHidden": false
   },
   "source": [
    "### 验证全连接神经网络 "
   ]
  },
  {
   "cell_type": "markdown",
   "id": "5a158de4",
   "metadata": {
    "inputHidden": false
   },
   "source": [
    "#### 定义网络结构 "
   ]
  },
  {
   "cell_type": "code",
   "execution_count": 10,
   "id": "2e628ea3",
   "metadata": {},
   "outputs": [],
   "source": [
    "# 定义网络结构\n",
    "class Network(nn.Module):\n",
    "    def __init__(self):\n",
    "        super(Network, self).__init__()\n",
    "        self.fc1 = nn.Linear(28*28, 128)\n",
    "        self.fc2 = nn.Linear(128, 64)\n",
    "        self.fc3 = nn.Linear(64, 10)\n",
    "\n",
    "    def forward(self, x):\n",
    "        x = x.view(x.shape[0], -1)  # Flatten the input\n",
    "        x = F.relu(self.fc1(x))\n",
    "        x = F.relu(self.fc2(x))\n",
    "        x = self.fc3(x)\n",
    "        return x"
   ]
  },
  {
   "cell_type": "markdown",
   "id": "fc218bfb",
   "metadata": {
    "inputHidden": false
   },
   "source": [
    "#### 网络实例化 "
   ]
  },
  {
   "cell_type": "code",
   "execution_count": 12,
   "id": "84aa5f7e",
   "metadata": {},
   "outputs": [],
   "source": [
    "fc_net = Network()\n",
    "fc_net = torch.load('results/weight/FC_mnist.pth')"
   ]
  },
  {
   "cell_type": "markdown",
   "id": "cca036cc",
   "metadata": {
    "inputHidden": false
   },
   "source": [
    "#### 实际例子预测 "
   ]
  },
  {
   "cell_type": "code",
   "execution_count": 13,
   "id": "5daf7827",
   "metadata": {},
   "outputs": [
    {
     "name": "stdout",
     "output_type": "stream",
     "text": [
      "Predicted labels:\n",
      " ['Ankle boot', 'Pullover', 'Trouser', 'Trouser', 'Shirt']\n",
      "Actual labels:\n",
      " ['Ankle boot', 'Pullover', 'Trouser', 'Trouser', 'Shirt']\n"
     ]
    },
    {
     "data": {
      "image/png": "[encoded data removed]",
      "text/plain": [
       "<Figure size 432x288 with 1 Axes>"
      ]
     },
     "metadata": {
      "needs_background": "light"
     },
     "output_type": "display_data"
    }
   ],
   "source": [
    "test_example(fc_net,test_loader)"
   ]
  },
  {
   "cell_type": "markdown",
   "id": "db7e4d81",
   "metadata": {
    "inputHidden": false
   },
   "source": [
    "#### 总体预测效果 "
   ]
  },
  {
   "cell_type": "code",
   "execution_count": 14,
   "id": "87838100",
   "metadata": {},
   "outputs": [
    {
     "name": "stdout",
     "output_type": "stream",
     "text": [
      "Classification Report:\n",
      "              precision    recall  f1-score   support\n",
      "\n",
      " T-shirt/top       0.76      0.90      0.83      1000\n",
      "     Trouser       0.98      0.97      0.98      1000\n",
      "    Pullover       0.82      0.77      0.80      1000\n",
      "       Dress       0.92      0.84      0.88      1000\n",
      "        Coat       0.75      0.88      0.81      1000\n",
      "      Sandal       0.97      0.96      0.96      1000\n",
      "       Shirt       0.77      0.61      0.68      1000\n",
      "     Sneaker       0.94      0.96      0.95      1000\n",
      "         Bag       0.97      0.96      0.97      1000\n",
      "  Ankle boot       0.96      0.96      0.96      1000\n",
      "\n",
      "    accuracy                           0.88     10000\n",
      "   macro avg       0.88      0.88      0.88     10000\n",
      "weighted avg       0.88      0.88      0.88     10000\n",
      "\n"
     ]
    }
   ],
   "source": [
    "test_all(fc_net,test_loader)"
   ]
  },
  {
   "cell_type": "markdown",
   "id": "1769362e",
   "metadata": {
    "inputHidden": false
   },
   "source": [
    "### 验证LeNet卷积网络 "
   ]
  },
  {
   "cell_type": "markdown",
   "id": "e0b2338d",
   "metadata": {
    "inputHidden": false
   },
   "source": [
    "#### 定义网络结构 "
   ]
  },
  {
   "cell_type": "code",
   "execution_count": 15,
   "id": "bb652a05",
   "metadata": {},
   "outputs": [],
   "source": [
    "class LeNet(nn.Module):\n",
    "    def __init__(self):\n",
    "        super(LeNet, self).__init__()\n",
    "        self.conv = nn.Sequential(\n",
    "            nn.Conv2d(1, 6, 5), # in_channels, out_channels, kernel_size\n",
    "            nn.Sigmoid(),\n",
    "            nn.MaxPool2d(2, 2), # kernel_size, stride\n",
    "            nn.Conv2d(6, 16, 5),\n",
    "            nn.Sigmoid(),\n",
    "            nn.MaxPool2d(2, 2)\n",
    "        )\n",
    "        self.fc = nn.Sequential(\n",
    "            nn.Linear(16*4*4, 120),\n",
    "            nn.Sigmoid(),\n",
    "            nn.Linear(120, 84),\n",
    "            nn.Sigmoid(),\n",
    "            nn.Linear(84, 10)\n",
    "        )\n",
    "\n",
    "    def forward(self, img):\n",
    "        feature = self.conv(img)\n",
    "        output = self.fc(feature.view(img.shape[0], -1))\n",
    "        return output"
   ]
  },
  {
   "cell_type": "markdown",
   "id": "7f8381be",
   "metadata": {
    "inputHidden": false
   },
   "source": [
    "#### 网络实例化"
   ]
  },
  {
   "cell_type": "code",
   "execution_count": 16,
   "id": "967cc4f5",
   "metadata": {},
   "outputs": [],
   "source": [
    "Lenet = LeNet()\n",
    "Lenet = torch.load('results/weight/LeNET_mnist.pth')"
   ]
  },
  {
   "cell_type": "markdown",
   "id": "74b599b8",
   "metadata": {
    "inputHidden": false
   },
   "source": [
    "#### 实际例子预测 "
   ]
  },
  {
   "cell_type": "code",
   "execution_count": 17,
   "id": "c1ca3a79",
   "metadata": {},
   "outputs": [
    {
     "name": "stdout",
     "output_type": "stream",
     "text": [
      "Predicted labels:\n",
      " ['Ankle boot', 'Pullover', 'Trouser', 'Trouser', 'Shirt']\n",
      "Actual labels:\n",
      " ['Ankle boot', 'Pullover', 'Trouser', 'Trouser', 'Shirt']\n"
     ]
    },
    {
     "data": {
      "image/png": "[encoded data removed]",
      "text/plain": [
       "<Figure size 432x288 with 1 Axes>"
      ]
     },
     "metadata": {
      "needs_background": "light"
     },
     "output_type": "display_data"
    }
   ],
   "source": [
    "test_example(Lenet,test_loader)"
   ]
  },
  {
   "cell_type": "markdown",
   "id": "6798942c",
   "metadata": {
    "inputHidden": false
   },
   "source": [
    "#### 总体预测效果 "
   ]
  },
  {
   "cell_type": "code",
   "execution_count": 18,
   "id": "efd4f64c",
   "metadata": {},
   "outputs": [
    {
     "name": "stdout",
     "output_type": "stream",
     "text": [
      "Classification Report:\n",
      "              precision    recall  f1-score   support\n",
      "\n",
      " T-shirt/top       0.76      0.90      0.83      1000\n",
      "     Trouser       0.98      0.97      0.98      1000\n",
      "    Pullover       0.82      0.77      0.80      1000\n",
      "       Dress       0.92      0.84      0.88      1000\n",
      "        Coat       0.75      0.88      0.81      1000\n",
      "      Sandal       0.97      0.96      0.96      1000\n",
      "       Shirt       0.77      0.61      0.68      1000\n",
      "     Sneaker       0.94      0.96      0.95      1000\n",
      "         Bag       0.97      0.96      0.97      1000\n",
      "  Ankle boot       0.96      0.96      0.96      1000\n",
      "\n",
      "    accuracy                           0.88     10000\n",
      "   macro avg       0.88      0.88      0.88     10000\n",
      "weighted avg       0.88      0.88      0.88     10000\n",
      "\n"
     ]
    }
   ],
   "source": [
    "test_all(Lenet,test_loader)"
   ]
  },
  {
   "cell_type": "markdown",
   "id": "9c9e172c",
   "metadata": {
    "inputHidden": false
   },
   "source": [
    "###  验证AlexNET"
   ]
  },
  {
   "cell_type": "markdown",
   "id": "4554d37b",
   "metadata": {
    "inputHidden": false
   },
   "source": [
    "#### 定义网络结构 "
   ]
  },
  {
   "cell_type": "code",
   "execution_count": 20,
   "id": "bc8bcddd",
   "metadata": {},
   "outputs": [],
   "source": [
    "class AlexNet(nn.Module):\n",
    "    def __init__(self):\n",
    "        super(AlexNet, self).__init__()\n",
    "        self.features = nn.Sequential(\n",
    "            nn.Conv2d(in_channels=1, out_channels=64, kernel_size=3, stride=1, padding=1),  # 1 通道改为 64\n",
    "            nn.ReLU(),\n",
    "            nn.MaxPool2d(kernel_size=2, stride=2),\n",
    "            nn.Conv2d(in_channels=64, out_channels=128, kernel_size=3, padding=1),\n",
    "            nn.ReLU(),\n",
    "            nn.MaxPool2d(kernel_size=2, stride=2),\n",
    "            nn.Conv2d(in_channels=128, out_channels=256, kernel_size=3, padding=1),\n",
    "            nn.ReLU(),\n",
    "            nn.Conv2d(in_channels=256, out_channels=256, kernel_size=3, padding=1),\n",
    "            nn.ReLU(),\n",
    "            nn.MaxPool2d(kernel_size=2, stride=2)\n",
    "        )\n",
    "        self.classifier = nn.Sequential(\n",
    "            nn.Dropout(),\n",
    "            nn.Linear(256 * 3 * 3, 1024),\n",
    "            nn.ReLU(),\n",
    "            nn.Dropout(),\n",
    "            nn.Linear(1024, 1024),\n",
    "            nn.ReLU(),\n",
    "            nn.Linear(1024, 10)\n",
    "        )\n",
    "\n",
    "    def forward(self, x):\n",
    "        x = self.features(x)\n",
    "        x = torch.flatten(x, 1)\n",
    "        output = self.classifier(x)\n",
    "        return output"
   ]
  },
  {
   "cell_type": "markdown",
   "id": "b4346ae7",
   "metadata": {
    "inputHidden": false
   },
   "source": [
    "#### 网络实例化 "
   ]
  },
  {
   "cell_type": "code",
   "execution_count": 21,
   "id": "90f8960b",
   "metadata": {},
   "outputs": [],
   "source": [
    "Alexnet = AlexNet()\n",
    "Alexnet = torch.load('results/weight/Alexnet_mnist.pth')"
   ]
  },
  {
   "cell_type": "markdown",
   "id": "0b27e2d4",
   "metadata": {
    "inputHidden": false
   },
   "source": [
    "#### 实际例子测试 "
   ]
  },
  {
   "cell_type": "code",
   "execution_count": 22,
   "id": "7187bffc",
   "metadata": {},
   "outputs": [
    {
     "name": "stdout",
     "output_type": "stream",
     "text": [
      "Predicted labels:\n",
      " ['Ankle boot', 'Pullover', 'Trouser', 'Trouser', 'Shirt']\n",
      "Actual labels:\n",
      " ['Ankle boot', 'Pullover', 'Trouser', 'Trouser', 'Shirt']\n"
     ]
    },
    {
     "data": {
      "image/png": "[encoded data removed]",
      "text/plain": [
       "<Figure size 640x480 with 1 Axes>"
      ]
     },
     "metadata": {},
     "output_type": "display_data"
    }
   ],
   "source": [
    "test_example(Alexnet,test_loader)"
   ]
  },
  {
   "cell_type": "markdown",
   "id": "2fbfa6a9",
   "metadata": {
    "inputHidden": false
   },
   "source": [
    "#### 总体测试效果 "
   ]
  },
  {
   "cell_type": "code",
   "execution_count": 23,
   "id": "3c8e751a",
   "metadata": {},
   "outputs": [
    {
     "name": "stdout",
     "output_type": "stream",
     "text": [
      "Classification Report:\n",
      "              precision    recall  f1-score   support\n",
      "\n",
      " T-shirt/top       0.88      0.86      0.87      1000\n",
      "     Trouser       0.99      0.99      0.99      1000\n",
      "    Pullover       0.89      0.87      0.88      1000\n",
      "       Dress       0.92      0.94      0.93      1000\n",
      "        Coat       0.86      0.90      0.88      1000\n",
      "      Sandal       0.98      0.98      0.98      1000\n",
      "       Shirt       0.77      0.76      0.77      1000\n",
      "     Sneaker       0.96      0.98      0.97      1000\n",
      "         Bag       0.99      0.98      0.99      1000\n",
      "  Ankle boot       0.98      0.96      0.97      1000\n",
      "\n",
      "    accuracy                           0.92     10000\n",
      "   macro avg       0.92      0.92      0.92     10000\n",
      "weighted avg       0.92      0.92      0.92     10000\n",
      "\n"
     ]
    }
   ],
   "source": [
    "test_all(Alexnet,test_loader)"
   ]
  },
  {
   "cell_type": "markdown",
   "id": "2fd819c3",
   "metadata": {
    "inputHidden": false
   },
   "source": [
    "### 验证vggNet卷积神经网络 "
   ]
  },
  {
   "cell_type": "markdown",
   "id": "465647ea",
   "metadata": {
    "inputHidden": false
   },
   "source": [
    "#### 网络搭建 "
   ]
  },
  {
   "cell_type": "code",
   "execution_count": 24,
   "id": "637669e7",
   "metadata": {},
   "outputs": [],
   "source": [
    "# 定义简化的 VGG 网络\n",
    "class VGGNet(nn.Module):\n",
    "    def __init__(self):\n",
    "        super(VGGNet, self).__init__()\n",
    "        self.features = nn.Sequential(\n",
    "            nn.Conv2d(1, 64, kernel_size=3, padding=1),\n",
    "            nn.ReLU(inplace=True),\n",
    "            nn.MaxPool2d(kernel_size=2, stride=2),\n",
    "            \n",
    "            nn.Conv2d(64, 128, kernel_size=3, padding=1),\n",
    "            nn.ReLU(inplace=True),\n",
    "            nn.MaxPool2d(kernel_size=2, stride=2),\n",
    "            \n",
    "            nn.Conv2d(128, 256, kernel_size=3, padding=1),\n",
    "            nn.ReLU(inplace=True),\n",
    "            nn.Conv2d(256, 256, kernel_size=3, padding=1),\n",
    "            nn.ReLU(inplace=True),\n",
    "            nn.MaxPool2d(kernel_size=2, stride=2),\n",
    "            \n",
    "            nn.Conv2d(256, 512, kernel_size=3, padding=1),\n",
    "            nn.ReLU(inplace=True),\n",
    "            nn.Conv2d(512, 512, kernel_size=3, padding=1),\n",
    "            nn.ReLU(inplace=True),\n",
    "            nn.MaxPool2d(kernel_size=2, stride=2)\n",
    "        )\n",
    "        self.classifier = nn.Sequential(\n",
    "            nn.Linear(512 * 1 * 1, 4096),\n",
    "            nn.ReLU(inplace=True),\n",
    "            nn.Dropout(),\n",
    "            nn.Linear(4096, 4096),\n",
    "            nn.ReLU(inplace=True),\n",
    "            nn.Dropout(),\n",
    "            nn.Linear(4096, 10),\n",
    "        )\n",
    "\n",
    "    def forward(self, x):\n",
    "        x = self.features(x)\n",
    "        x = torch.flatten(x, 1)\n",
    "        x = self.classifier(x)\n",
    "        return x"
   ]
  },
  {
   "cell_type": "markdown",
   "id": "9af522d2",
   "metadata": {
    "inputHidden": false
   },
   "source": [
    "#### 网络实例化 "
   ]
  },
  {
   "cell_type": "code",
   "execution_count": 25,
   "id": "6eefa490",
   "metadata": {},
   "outputs": [],
   "source": [
    "vggnet = VGGNet()\n",
    "vggnet = torch.load('results/weight/vggnet_mnist.pth')"
   ]
  },
  {
   "cell_type": "markdown",
   "id": "3a7fe5d7",
   "metadata": {
    "inputHidden": false
   },
   "source": [
    "#### 实际例子测试 "
   ]
  },
  {
   "cell_type": "code",
   "execution_count": 26,
   "id": "c319abd0",
   "metadata": {},
   "outputs": [
    {
     "name": "stdout",
     "output_type": "stream",
     "text": [
      "Predicted labels:\n",
      " ['Ankle boot', 'Pullover', 'Trouser', 'Trouser', 'Shirt']\n",
      "Actual labels:\n",
      " ['Ankle boot', 'Pullover', 'Trouser', 'Trouser', 'Shirt']\n"
     ]
    },
    {
     "data": {
      "image/png": "[encoded data removed]",
      "text/plain": [
       "<Figure size 640x480 with 1 Axes>"
      ]
     },
     "metadata": {},
     "output_type": "display_data"
    }
   ],
   "source": [
    "test_example(vggnet,test_loader)"
   ]
  },
  {
   "cell_type": "markdown",
   "id": "9f577b51",
   "metadata": {
    "inputHidden": false
   },
   "source": [
    "#### 总体测试效果 "
   ]
  },
  {
   "cell_type": "code",
   "execution_count": 27,
   "id": "8dd71390",
   "metadata": {},
   "outputs": [
    {
     "name": "stdout",
     "output_type": "stream",
     "text": [
      "Classification Report:\n",
      "              precision    recall  f1-score   support\n",
      "\n",
      " T-shirt/top       0.91      0.81      0.86      1000\n",
      "     Trouser       0.99      0.99      0.99      1000\n",
      "    Pullover       0.82      0.90      0.86      1000\n",
      "       Dress       0.91      0.92      0.92      1000\n",
      "        Coat       0.88      0.84      0.86      1000\n",
      "      Sandal       0.99      0.98      0.98      1000\n",
      "       Shirt       0.74      0.77      0.75      1000\n",
      "     Sneaker       0.94      0.98      0.96      1000\n",
      "         Bag       0.99      0.98      0.98      1000\n",
      "  Ankle boot       0.98      0.95      0.97      1000\n",
      "\n",
      "    accuracy                           0.91     10000\n",
      "   macro avg       0.91      0.91      0.91     10000\n",
      "weighted avg       0.91      0.91      0.91     10000\n",
      "\n"
     ]
    }
   ],
   "source": [
    "test_all(vggnet,test_loader)"
   ]
  },
  {
   "cell_type": "markdown",
   "id": "1343b84e",
   "metadata": {
    "inputHidden": false
   },
   "source": [
    "### 验证resnet "
   ]
  },
  {
   "cell_type": "markdown",
   "id": "f1857a4d",
   "metadata": {
    "inputHidden": false
   },
   "source": [
    "#### 网络搭建 "
   ]
  },
  {
   "cell_type": "code",
   "execution_count": 28,
   "id": "dd098b93",
   "metadata": {},
   "outputs": [],
   "source": [
    "# 定义基本的残差块\n",
    "class BasicBlock(nn.Module):\n",
    "    expansion = 1\n",
    "\n",
    "    def __init__(self, in_planes, planes, stride=1):\n",
    "        super(BasicBlock, self).__init__()\n",
    "        self.conv1 = nn.Conv2d(in_planes, planes, kernel_size=3, stride=stride, padding=1, bias=False)\n",
    "        self.bn1 = nn.BatchNorm2d(planes)\n",
    "        self.conv2 = nn.Conv2d(planes, planes, kernel_size=3, stride=1, padding=1, bias=False)\n",
    "        self.bn2 = nn.BatchNorm2d(planes)\n",
    "\n",
    "        self.shortcut = nn.Sequential()\n",
    "        if stride != 1 or in_planes != self.expansion * planes:\n",
    "            self.shortcut = nn.Sequential(\n",
    "                nn.Conv2d(in_planes, self.expansion * planes, kernel_size=1, stride=stride, bias=False),\n",
    "                nn.BatchNorm2d(self.expansion * planes)\n",
    "            )\n",
    "\n",
    "    def forward(self, x):\n",
    "        out = torch.relu(self.bn1(self.conv1(x)))\n",
    "        out = self.bn2(self.conv2(out))\n",
    "        out += self.shortcut(x)\n",
    "        out = torch.relu(out)\n",
    "        return out\n",
    "\n",
    "class ResNet(nn.Module):\n",
    "    def __init__(self, block, num_blocks, num_classes=10):\n",
    "        super(ResNet, self).__init__()\n",
    "        self.in_planes = 64\n",
    "\n",
    "        self.conv1 = nn.Conv2d(1, 64, kernel_size=3, stride=1, padding=1, bias=False)\n",
    "        self.bn1 = nn.BatchNorm2d(64)\n",
    "        self.layer1 = self._make_layer(block, 64, num_blocks[0], stride=1)\n",
    "        self.layer2 = self._make_layer(block, 128, num_blocks[1], stride=2)\n",
    "        self.layer3 = self._make_layer(block, 256, num_blocks[2], stride=2)\n",
    "        self.layer4 = self._make_layer(block, 512, num_blocks[3], stride=2)\n",
    "        self.linear = nn.Linear(512 * block.expansion * 4 * 4, num_classes)\n",
    "\n",
    "    def _make_layer(self, block, planes, num_blocks, stride):\n",
    "        strides = [stride] + [1] * (num_blocks - 1)\n",
    "        layers = []\n",
    "        for stride in strides:\n",
    "            layers.append(block(self.in_planes, planes, stride))\n",
    "            self.in_planes = planes * block.expansion\n",
    "        return nn.Sequential(*layers)\n",
    "\n",
    "    def forward(self, x):\n",
    "        out = torch.relu(self.bn1(self.conv1(x)))\n",
    "        out = self.layer1(out)\n",
    "        out = self.layer2(out)\n",
    "        out = self.layer3(out)\n",
    "        out = self.layer4(out)\n",
    "        out = torch.flatten(out, 1)\n",
    "        out = self.linear(out)\n",
    "        return out\n",
    "    \n",
    "def ResNet18():\n",
    "    return ResNet(BasicBlock, [2, 2, 2, 2])"
   ]
  },
  {
   "cell_type": "markdown",
   "id": "8c065834",
   "metadata": {
    "inputHidden": false
   },
   "source": [
    "#### 网络实例化 "
   ]
  },
  {
   "cell_type": "code",
   "execution_count": 29,
   "id": "8cbdc1f5",
   "metadata": {},
   "outputs": [],
   "source": [
    "resnet = ResNet18()\n",
    "resnet = torch.load('results/weight/resnet_mnist.pth')"
   ]
  },
  {
   "cell_type": "markdown",
   "id": "b4ebea80",
   "metadata": {
    "inputHidden": false
   },
   "source": [
    "#### 实际例子测试 "
   ]
  },
  {
   "cell_type": "code",
   "execution_count": 30,
   "id": "ccd9cf97",
   "metadata": {},
   "outputs": [
    {
     "name": "stdout",
     "output_type": "stream",
     "text": [
      "Predicted labels:\n",
      " ['Ankle boot', 'Pullover', 'Trouser', 'Trouser', 'Shirt']\n",
      "Actual labels:\n",
      " ['Ankle boot', 'Pullover', 'Trouser', 'Trouser', 'Shirt']\n"
     ]
    },
    {
     "data": {
      "image/png": "[encoded data removed]",
      "text/plain": [
       "<Figure size 640x480 with 1 Axes>"
      ]
     },
     "metadata": {},
     "output_type": "display_data"
    }
   ],
   "source": [
    "test_example(resnet,test_loader)"
   ]
  },
  {
   "cell_type": "markdown",
   "id": "81e56b2d",
   "metadata": {
    "inputHidden": false
   },
   "source": [
    "#### 全部样例测试 "
   ]
  },
  {
   "cell_type": "code",
   "execution_count": 31,
   "id": "15124f4f",
   "metadata": {},
   "outputs": [
    {
     "name": "stdout",
     "output_type": "stream",
     "text": [
      "Classification Report:\n",
      "              precision    recall  f1-score   support\n",
      "\n",
      " T-shirt/top       0.89      0.86      0.87      1000\n",
      "     Trouser       0.99      0.99      0.99      1000\n",
      "    Pullover       0.90      0.91      0.91      1000\n",
      "       Dress       0.94      0.91      0.92      1000\n",
      "        Coat       0.87      0.92      0.89      1000\n",
      "      Sandal       0.99      0.98      0.98      1000\n",
      "       Shirt       0.78      0.78      0.78      1000\n",
      "     Sneaker       0.97      0.97      0.97      1000\n",
      "         Bag       0.99      0.98      0.98      1000\n",
      "  Ankle boot       0.97      0.97      0.97      1000\n",
      "\n",
      "    accuracy                           0.93     10000\n",
      "   macro avg       0.93      0.93      0.93     10000\n",
      "weighted avg       0.93      0.93      0.93     10000\n",
      "\n"
     ]
    }
   ],
   "source": [
    "test_all(resnet,test_loader)"
   ]
  },
  {
   "cell_type": "markdown",
   "id": "78fc9e3c",
   "metadata": {
    "inputHidden": false
   },
   "source": [
    "###  验证DenseNet"
   ]
  },
  {
   "cell_type": "markdown",
   "id": "a2daf8b5",
   "metadata": {
    "inputHidden": false
   },
   "source": [
    "#### 搭建网络 "
   ]
  },
  {
   "cell_type": "code",
   "execution_count": 32,
   "id": "f731a4d7",
   "metadata": {},
   "outputs": [],
   "source": [
    "class Bottleneck(nn.Module):\n",
    "    def __init__(self, in_planes, growth_rate):\n",
    "        super(Bottleneck, self).__init__()\n",
    "        self.bn1 = nn.BatchNorm2d(in_planes)\n",
    "        self.conv1 = nn.Conv2d(in_planes, 4 * growth_rate, kernel_size=1, bias=False)\n",
    "        self.bn2 = nn.BatchNorm2d(4 * growth_rate)\n",
    "        self.conv2 = nn.Conv2d(4 * growth_rate, growth_rate, kernel_size=3, padding=1, bias=False)\n",
    "\n",
    "    def forward(self, x):\n",
    "        out = self.conv1(torch.relu(self.bn1(x)))\n",
    "        out = self.conv2(torch.relu(self.bn2(out)))\n",
    "        out = torch.cat([out, x], 1)\n",
    "        return out\n",
    "\n",
    "class Transition(nn.Module):\n",
    "    def __init__(self, in_planes, out_planes):\n",
    "        super(Transition, self).__init__()\n",
    "        self.bn = nn.BatchNorm2d(in_planes)\n",
    "        self.conv = nn.Conv2d(in_planes, out_planes, kernel_size=1, bias=False)\n",
    "\n",
    "    def forward(self, x):\n",
    "        out = self.conv(torch.relu(self.bn(x)))\n",
    "        out = nn.functional.avg_pool2d(out, 2)\n",
    "        return out\n",
    "\n",
    "class DenseNet(nn.Module):\n",
    "    def __init__(self, block, nblocks, growth_rate=12, reduction=0.5, num_classes=10):\n",
    "        super(DenseNet, self).__init__()\n",
    "        self.growth_rate = growth_rate\n",
    "\n",
    "        num_planes = 2 * growth_rate\n",
    "        self.conv1 = nn.Conv2d(1, num_planes, kernel_size=3, padding=1, bias=False)\n",
    "\n",
    "        self.dense1 = self._make_dense_layers(block, num_planes, nblocks[0])\n",
    "        num_planes += nblocks[0] * growth_rate\n",
    "        self.trans1 = Transition(num_planes, num_planes // 2)\n",
    "        num_planes = num_planes // 2\n",
    "\n",
    "        self.dense2 = self._make_dense_layers(block, num_planes, nblocks[1])\n",
    "        num_planes += nblocks[1] * growth_rate\n",
    "        self.trans2 = Transition(num_planes, num_planes // 2)\n",
    "        num_planes = num_planes // 2\n",
    "\n",
    "        self.dense3 = self._make_dense_layers(block, num_planes, nblocks[2])\n",
    "        num_planes += nblocks[2] * growth_rate\n",
    "\n",
    "        self.bn = nn.BatchNorm2d(num_planes)\n",
    "        self.linear = nn.Linear(1536, num_classes)\n",
    "  # 修改全连接层输入维度\n",
    "\n",
    "    def _make_dense_layers(self, block, in_planes, nblock):\n",
    "        layers = []\n",
    "        for _ in range(nblock):\n",
    "            layers.append(block(in_planes, self.growth_rate))\n",
    "            in_planes += self.growth_rate\n",
    "        return nn.Sequential(*layers)\n",
    "\n",
    "    def forward(self, x):\n",
    "        # print(\"Input shape:\", x.shape)\n",
    "        out = self.conv1(x)\n",
    "        # print(\"After Conv1:\", out.shape)\n",
    "        out = self.trans1(self.dense1(out))\n",
    "        # print(\"After Dense1 and Trans1:\", out.shape)\n",
    "        out = self.trans2(self.dense2(out))\n",
    "        # print(\"After Dense2 and Trans2:\", out.shape)\n",
    "        out = self.dense3(out)\n",
    "        # print(\"After Dense3:\", out.shape)\n",
    "        out = torch.relu(self.bn(out))\n",
    "        out = nn.functional.avg_pool2d(out, 3)\n",
    "        # print(\"After final avg pool:\", out.shape)\n",
    "        out = out.view(out.size(0), -1)\n",
    "        # print(\"Before Linear:\", out.shape)\n",
    "        out = self.linear(out)\n",
    "        return out\n",
    "\n",
    "def DenseNet121():\n",
    "    return DenseNet(Bottleneck, [6, 12, 24], growth_rate=12)\n",
    "\n",
    "densenet = DenseNet121().to(device)"
   ]
  },
  {
   "cell_type": "markdown",
   "id": "ea15ef9a",
   "metadata": {
    "inputHidden": false
   },
   "source": [
    "#### 网络实例化 "
   ]
  },
  {
   "cell_type": "code",
   "execution_count": 33,
   "id": "602ea44e",
   "metadata": {},
   "outputs": [],
   "source": [
    "densenet = DenseNet121()\n",
    "densenet = torch.load(\"results/weight/densenet_mnist.pth\")"
   ]
  },
  {
   "cell_type": "markdown",
   "id": "6dca8b37",
   "metadata": {
    "inputHidden": false
   },
   "source": [
    "#### 样例测试 "
   ]
  },
  {
   "cell_type": "code",
   "execution_count": 34,
   "id": "5b2e69d9",
   "metadata": {},
   "outputs": [
    {
     "name": "stdout",
     "output_type": "stream",
     "text": [
      "Predicted labels:\n",
      " ['Ankle boot', 'Pullover', 'Trouser', 'Trouser', 'Shirt']\n",
      "Actual labels:\n",
      " ['Ankle boot', 'Pullover', 'Trouser', 'Trouser', 'Shirt']\n"
     ]
    },
    {
     "data": {
      "image/png": "[encoded data removed]",
      "text/plain": [
       "<Figure size 640x480 with 1 Axes>"
      ]
     },
     "metadata": {},
     "output_type": "display_data"
    }
   ],
   "source": [
    "test_example(densenet,test_loader)"
   ]
  },
  {
   "cell_type": "markdown",
   "id": "d263734d",
   "metadata": {
    "inputHidden": false
   },
   "source": [
    "#### 全部测试 "
   ]
  },
  {
   "cell_type": "code",
   "execution_count": 35,
   "id": "ddf53bb0",
   "metadata": {},
   "outputs": [
    {
     "name": "stdout",
     "output_type": "stream",
     "text": [
      "Classification Report:\n",
      "              precision    recall  f1-score   support\n",
      "\n",
      " T-shirt/top       0.89      0.86      0.87      1000\n",
      "     Trouser       0.99      0.99      0.99      1000\n",
      "    Pullover       0.90      0.91      0.91      1000\n",
      "       Dress       0.94      0.91      0.92      1000\n",
      "        Coat       0.87      0.92      0.89      1000\n",
      "      Sandal       0.99      0.98      0.98      1000\n",
      "       Shirt       0.78      0.78      0.78      1000\n",
      "     Sneaker       0.97      0.97      0.97      1000\n",
      "         Bag       0.99      0.98      0.98      1000\n",
      "  Ankle boot       0.97      0.97      0.97      1000\n",
      "\n",
      "    accuracy                           0.93     10000\n",
      "   macro avg       0.93      0.93      0.93     10000\n",
      "weighted avg       0.93      0.93      0.93     10000\n",
      "\n"
     ]
    }
   ],
   "source": [
    "test_all(resnet,test_loader)"
   ]
  }
 ],
 "metadata": {
  "kernelspec": {
   "display_name": "Python 3",
   "language": "python",
   "name": "python3"
  },
  "language_info": {
   "codemirror_mode": {
    "name": "ipython",
    "version": 3
   },
   "file_extension": ".py",
   "mimetype": "text/x-python",
   "name": "python",
   "nbconvert_exporter": "python",
   "pygments_lexer": "ipython3",
   "version": "3.9.5"
  }
 },
 "nbformat": 4,
 "nbformat_minor": 5
}

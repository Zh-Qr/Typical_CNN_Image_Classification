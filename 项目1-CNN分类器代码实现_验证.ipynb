{
 "cells": [
  {
   "cell_type": "markdown",
   "id": "dfbd43a4",
   "metadata": {},
   "source": [
    "# CNN分类器代码实现-验证 "
   ]
  },
  {
   "cell_type": "markdown",
   "id": "ee55c8d3",
   "metadata": {},
   "source": [
    "## 文件简介 "
   ]
  },
  {
   "cell_type": "markdown",
   "id": "a6394f39",
   "metadata": {},
   "source": [
    "####  项目1-CNN分类器代码实现_验证.ipynb"
   ]
  },
  {
   "cell_type": "markdown",
   "id": "2f6d9968",
   "metadata": {},
   "source": [
    "包括背景介绍、分类器发展、代码结构、模型结构、训练过程可视化、实际例子测试、整体测试效果等。"
   ]
  },
  {
   "cell_type": "markdown",
   "id": "2e18f9b5",
   "metadata": {},
   "source": [
    "#### project1_pytorch_train.py"
   ]
  },
  {
   "cell_type": "markdown",
   "id": "8ba7ed70",
   "metadata": {},
   "source": [
    "训练文件，可用于GPU运算加速，同时保存所需要权重文件:result/weight和训练过程可视化效果:result/process_picture。"
   ]
  },
  {
   "cell_type": "markdown",
   "id": "5f9a7828",
   "metadata": {},
   "source": [
    "####  project1_pytorch_train.ipynb"
   ]
  },
  {
   "cell_type": "markdown",
   "id": "96b3b5cd",
   "metadata": {},
   "source": [
    "torch框架下实现的对各种CNN分类器代码训练过程的详细过程注释"
   ]
  },
  {
   "cell_type": "markdown",
   "id": "dec3b9d7",
   "metadata": {},
   "source": [
    "#### project1_mindspore_train.ipynb"
   ]
  },
  {
   "cell_type": "markdown",
   "id": "6109b9dc",
   "metadata": {},
   "source": [
    "mindspore框架下实现的对各种CNN分类器代码训练过程的详细过程注释\n",
    "生成的py文件用于在GPU硬件上进行加速训练"
   ]
  },
  {
   "cell_type": "markdown",
   "id": "f3c2e03a",
   "metadata": {},
   "source": [
    "## 背景介绍 "
   ]
  },
  {
   "cell_type": "markdown",
   "id": "d5b6d43f",
   "metadata": {},
   "source": [
    "   Paul J. Werbos 因在 1974 年的哈佛大学博士论文中首次提出通过反向传播算法来训练人工神经网络而闻名，被称为“反向传播之父”，打破了运算结果只能向前传递的限制，从而使得机器能够通过运算结果调节模型成为可能。因此，机器获得了“学习”的能力！\n",
    "   在此基础上，机器学习理论飞速发展，分类器旨在通过学习训练集合上不同类别的特征从而实现在新测试目标上的分类功能！"
   ]
  },
  {
   "cell_type": "markdown",
   "id": "6af618a4",
   "metadata": {},
   "source": [
    "## 项目介绍"
   ]
  },
  {
   "cell_type": "markdown",
   "id": "1bcd7a45",
   "metadata": {},
   "source": [
    "本项目探讨CNN网络用于图像分类历史上的几个典型模型，我首先从全连接神经网络入门，之后是5个CNN网络分类FashionMNIST数据集。"
   ]
  },
  {
   "cell_type": "markdown",
   "id": "c496e86f",
   "metadata": {},
   "source": [
    "## CNN图像分类模型发展历史\n",
    "\n",
    "| 模型       | 发布年份 | 详细介绍                                                                                                      |\n",
    "|------------|----------|----------------------------------------------------------------------------------------------------------------|\n",
    "| LeNet      | 1989     | LeNet是由Yann LeCun等人提出的，用于手写数字识别。它是最早的卷积神经网络之一，由多个卷积层和池化层组成，最后连接全连接层进行分类。 |\n",
    "| AlexNet    | 2012     | AlexNet由Alex Krizhevsky等人提出，在ImageNet竞赛中取得了显著成绩。它使用了更深的网络结构和ReLU激活函数，首次在大规模数据集上展现了深度学习的威力。 |\n",
    "| VGG        | 2014     | VGG由牛津大学的研究团队提出，主要特点是使用了较小的3x3卷积核，但加深了网络层数。它有VGG16和VGG19两种变体，以网络层数命名。 |\n",
    "| ResNet     | 2015     | ResNet由微软研究院提出，通过引入残差连接解决了深层神经网络的退化问题。ResNet50、ResNet101和ResNet152是其常见变体，数字代表网络层数。 |\n",
    "| DenseNet   | 2017     | DenseNet通过连接每一层到后续的所有层，极大地提高了特征复用效率和梯度传递效果，减少了参数数量，同时提升了模型性能。  \n",
    "\n",
    "本项目将使用以上CNN网络结构实现对FashionMNIST数据集的分类  \n",
    "class_names = ['T-shirt/top', 'Trouser', 'Pullover', 'Dress', 'Coat', 'Sandal', 'Shirt', 'Sneaker', 'Bag', 'Ankle boot']"
   ]
  },
  {
   "cell_type": "markdown",
   "id": "06d5bd9a",
   "metadata": {},
   "source": [
    "## 代码结构 "
   ]
  },
  {
   "cell_type": "markdown",
   "id": "e019c9c8",
   "metadata": {},
   "source": [
    "### 导入需要的库 "
   ]
  },
  {
   "cell_type": "code",
   "execution_count": 40,
   "id": "bc744ded",
   "metadata": {},
   "outputs": [
    {
     "name": "stdout",
     "output_type": "stream",
     "text": [
      "环境准备完毕\n"
     ]
    }
   ],
   "source": [
    "import keras\n",
    "import numpy as np\n",
    "import tensorflow as tf\n",
    "import torch\n",
    "from torch import nn\n",
    "import torch.optim as optim\n",
    "import torch.nn.functional as F\n",
    "from torchvision import datasets, transforms\n",
    "from torch.utils.data import DataLoader\n",
    "import matplotlib.pyplot as plt\n",
    "import torchvision\n",
    "import sklearn\n",
    "import tempfile\n",
    "import sys\n",
    "from sklearn.metrics import classification_report, confusion_matrix\n",
    "import random\n",
    "\n",
    "print(\"环境准备完毕\")"
   ]
  },
  {
   "cell_type": "markdown",
   "id": "7c5385a5",
   "metadata": {},
   "source": [
    "### 加载数据集\n",
    "由于文件权限问题，此处使用临时目录文件\n",
    "同时，预训练权重文件目录在此处进行定义，可以统筹更换所有模型的权重，方便后续对模型进行优化和权重的更换！只需要更换目录，就可以更换所有需要的预训练权重！"
   ]
  },
  {
   "cell_type": "code",
   "execution_count": 3,
   "id": "d309bd7f",
   "metadata": {},
   "outputs": [
    {
     "name": "stdout",
     "output_type": "stream",
     "text": [
      "Downloading http://fashion-mnist.s3-website.eu-central-1.amazonaws.com/train-images-idx3-ubyte.gz\n",
      "Downloading http://fashion-mnist.s3-website.eu-central-1.amazonaws.com/train-images-idx3-ubyte.gz to /tmp/tmpwogkdbex/FashionMNIST/raw/train-images-idx3-ubyte.gz\n"
     ]
    },
    {
     "data": {
      "application/vnd.jupyter.widget-view+json": {
       "model_id": "f9b73ad7baa545c88ecb7af59d624743",
       "version_major": 2,
       "version_minor": 0
      },
      "text/plain": [
       "  0%|          | 0/26421880 [00:00<?, ?it/s]"
      ]
     },
     "metadata": {},
     "output_type": "display_data"
    },
    {
     "name": "stdout",
     "output_type": "stream",
     "text": [
      "Extracting /tmp/tmpwogkdbex/FashionMNIST/raw/train-images-idx3-ubyte.gz to /tmp/tmpwogkdbex/FashionMNIST/raw\n",
      "\n",
      "Downloading http://fashion-mnist.s3-website.eu-central-1.amazonaws.com/train-labels-idx1-ubyte.gz\n",
      "Downloading http://fashion-mnist.s3-website.eu-central-1.amazonaws.com/train-labels-idx1-ubyte.gz to /tmp/tmpwogkdbex/FashionMNIST/raw/train-labels-idx1-ubyte.gz\n"
     ]
    },
    {
     "data": {
      "application/vnd.jupyter.widget-view+json": {
       "model_id": "afa673aa54ba400db37a4851f5a48cc2",
       "version_major": 2,
       "version_minor": 0
      },
      "text/plain": [
       "  0%|          | 0/29515 [00:00<?, ?it/s]"
      ]
     },
     "metadata": {},
     "output_type": "display_data"
    },
    {
     "name": "stdout",
     "output_type": "stream",
     "text": [
      "Extracting /tmp/tmpwogkdbex/FashionMNIST/raw/train-labels-idx1-ubyte.gz to /tmp/tmpwogkdbex/FashionMNIST/raw\n",
      "\n",
      "Downloading http://fashion-mnist.s3-website.eu-central-1.amazonaws.com/t10k-images-idx3-ubyte.gz\n",
      "Downloading http://fashion-mnist.s3-website.eu-central-1.amazonaws.com/t10k-images-idx3-ubyte.gz to /tmp/tmpwogkdbex/FashionMNIST/raw/t10k-images-idx3-ubyte.gz\n"
     ]
    },
    {
     "data": {
      "application/vnd.jupyter.widget-view+json": {
       "model_id": "95f0388cf21f466bb0a573b10fe8e9b3",
       "version_major": 2,
       "version_minor": 0
      },
      "text/plain": [
       "  0%|          | 0/4422102 [00:00<?, ?it/s]"
      ]
     },
     "metadata": {},
     "output_type": "display_data"
    },
    {
     "name": "stdout",
     "output_type": "stream",
     "text": [
      "Extracting /tmp/tmpwogkdbex/FashionMNIST/raw/t10k-images-idx3-ubyte.gz to /tmp/tmpwogkdbex/FashionMNIST/raw\n",
      "\n",
      "Downloading http://fashion-mnist.s3-website.eu-central-1.amazonaws.com/t10k-labels-idx1-ubyte.gz\n",
      "Downloading http://fashion-mnist.s3-website.eu-central-1.amazonaws.com/t10k-labels-idx1-ubyte.gz to /tmp/tmpwogkdbex/FashionMNIST/raw/t10k-labels-idx1-ubyte.gz\n"
     ]
    },
    {
     "data": {
      "application/vnd.jupyter.widget-view+json": {
       "model_id": "fd35468ca9f847de869e7bf5574322ef",
       "version_major": 2,
       "version_minor": 0
      },
      "text/plain": [
       "  0%|          | 0/5148 [00:00<?, ?it/s]"
      ]
     },
     "metadata": {},
     "output_type": "display_data"
    },
    {
     "name": "stdout",
     "output_type": "stream",
     "text": [
      "Extracting /tmp/tmpwogkdbex/FashionMNIST/raw/t10k-labels-idx1-ubyte.gz to /tmp/tmpwogkdbex/FashionMNIST/raw\n",
      "\n"
     ]
    }
   ],
   "source": [
    "def load_data_fashion_mnist(mnist_train, mnist_test, batch_size):\n",
    "    if sys.platform.startswith('win'):\n",
    "        num_workers = 0\n",
    "    else:\n",
    "        num_workers = 4\n",
    "    train_iter = DataLoader(mnist_train, batch_size=batch_size, shuffle=True, num_workers=num_workers)\n",
    "    test_iter = DataLoader(mnist_test, batch_size=batch_size, shuffle=False, num_workers=num_workers)\n",
    "    return train_iter, test_iter\n",
    "\n",
    "# 使用临时目录\n",
    "with tempfile.TemporaryDirectory() as tmpdirname:\n",
    "    train_loader = DataLoader(\n",
    "        datasets.FashionMNIST(\n",
    "            root=tmpdirname, \n",
    "            train=True, \n",
    "            transform=transforms.ToTensor(), \n",
    "            download=True\n",
    "        ), \n",
    "        batch_size=64, \n",
    "        shuffle=True\n",
    "    )\n",
    "    test_loader = DataLoader(\n",
    "        datasets.FashionMNIST(\n",
    "            root=tmpdirname, \n",
    "            train=False, \n",
    "            transform=transforms.ToTensor(), \n",
    "            download=True\n",
    "        ), \n",
    "        batch_size=64, \n",
    "        shuffle=False\n",
    "    )\n",
    "\n",
    "    mnist_train = torchvision.datasets.FashionMNIST(\n",
    "        root=tmpdirname, \n",
    "        train=True, \n",
    "        download=True, \n",
    "        transform=transforms.ToTensor()\n",
    "    )\n",
    "    mnist_test = torchvision.datasets.FashionMNIST(\n",
    "        root=tmpdirname, \n",
    "        train=False, \n",
    "        download=True, \n",
    "        transform=transforms.ToTensor()\n",
    "    )\n",
    "\n",
    "    class_names = ['T-shirt/top', 'Trouser', 'Pullover', 'Dress', 'Coat', 'Sandal', 'Shirt', 'Sneaker', 'Bag', 'Ankle boot']\n",
    "\n",
    "device = torch.device('cuda' if torch.cuda.is_available() else 'cpu')\n",
    "\n",
    "weight_dir = '../results/weight/'"
   ]
  },
  {
   "cell_type": "markdown",
   "id": "88b9b5cb",
   "metadata": {},
   "source": [
    "### 实际例子测试函数 "
   ]
  },
  {
   "cell_type": "code",
   "execution_count": 49,
   "id": "3ef253d9",
   "metadata": {},
   "outputs": [],
   "source": [
    "def test_example(net,test_loader):\n",
    "    net.eval()\n",
    "    test_images, test_labels = next(iter(test_loader))\n",
    "    test_images, test_labels = test_images.to(device), test_labels.to(device)  # 将数据移动到 GPU 上\n",
    "    with torch.no_grad():\n",
    "        output = net(test_images[:5])\n",
    "\n",
    "    # 将输出转换为类别索引\n",
    "    predicted_labels = torch.argmax(output, dim=1)\n",
    "    actual_labels = test_labels[:5]\n",
    "\n",
    "    # 打印转换后的预测结果和实际标签\n",
    "    class_names = ['T-shirt/top', 'Trouser', 'Pullover', 'Dress', 'Coat', 'Sandal', 'Shirt', 'Sneaker', 'Bag', 'Ankle boot']\n",
    "    print(\"Predicted labels:\\n\", [class_names[label] for label in predicted_labels.cpu().numpy()])\n",
    "    print(\"Actual labels:\\n\", [class_names[label] for label in actual_labels.cpu().numpy()])\n",
    "\n",
    "    # 可视化随机一个图像和预测结果\n",
    "    index = random.randint(0, 4)\n",
    "    image = test_images[index].cpu().numpy().transpose((1, 2, 0))\n",
    "    plt.imshow(image.squeeze(), cmap='gray')  # 将图像数据移动回 CPU\n",
    "    plt.title(f'Predicted: {class_names[predicted_labels[index].item()]}, Actual: {class_names[actual_labels[index].item()]}')\n",
    "    plt.show()"
   ]
  },
  {
   "cell_type": "markdown",
   "id": "f2fd3bc2",
   "metadata": {},
   "source": [
    "### 整体数据测试函数 "
   ]
  },
  {
   "cell_type": "code",
   "execution_count": 5,
   "id": "eb00ecb0",
   "metadata": {},
   "outputs": [],
   "source": [
    "def test_all(net,test_loader):\n",
    "    net.to(device)\n",
    "    net.eval()  # 设置为评估模式\n",
    "    # 进行预测并收集测试结果\n",
    "    all_preds = []\n",
    "    all_labels = []\n",
    "    with torch.no_grad():\n",
    "        for X, y in test_loader:\n",
    "            X, y = X.to(device), y.to(device)\n",
    "            outputs = net(X)\n",
    "            preds = outputs.argmax(dim=1)\n",
    "            all_preds.extend(preds.cpu().numpy())\n",
    "            all_labels.extend(y.cpu().numpy())\n",
    "\n",
    "    # 计算评估指标\n",
    "    print(\"Classification Report:\")\n",
    "    print(classification_report(all_labels, all_preds, target_names=mnist_test.classes))"
   ]
  },
  {
   "cell_type": "markdown",
   "id": "e9e1a419",
   "metadata": {},
   "source": [
    "### 引子——全连接层解决分类问题\n",
    "在正式使用CNN卷积神经网络进行图像分类之前，我首先使用更为基础的、普遍的、便于理解的全连接网络解决图像分类问题。FashionNet单个图片28*28的size，我首先将其flatten操作，之后添加一层hidden layer，设置epoch=100，lr=0.001，并且在智海平台进行训练"
   ]
  },
  {
   "cell_type": "markdown",
   "id": "3bbfcf82",
   "metadata": {},
   "source": [
    "#### 定义网络结构 "
   ]
  },
  {
   "cell_type": "code",
   "execution_count": 6,
   "id": "b58d0219",
   "metadata": {},
   "outputs": [],
   "source": [
    "class Network(nn.Module):\n",
    "    def __init__(self):\n",
    "        super(Network, self).__init__()\n",
    "        self.fc1 = nn.Linear(28*28, 128)\n",
    "        self.fc2 = nn.Linear(128, 64)\n",
    "        self.fc3 = nn.Linear(64, 10)\n",
    "\n",
    "    def forward(self, x):\n",
    "        x = x.view(x.shape[0], -1)  # Flatten the input\n",
    "        x = F.relu(self.fc1(x))\n",
    "        x = F.relu(self.fc2(x))\n",
    "        x = self.fc3(x)\n",
    "        return x"
   ]
  },
  {
   "cell_type": "markdown",
   "id": "4f4c7a49",
   "metadata": {},
   "source": [
    "#### 网络实例化 "
   ]
  },
  {
   "cell_type": "code",
   "execution_count": 7,
   "id": "505586de",
   "metadata": {},
   "outputs": [],
   "source": [
    "fc_net = Network()\n",
    "fc_net = torch.load('../results/weight/FC_mnist.pth')"
   ]
  },
  {
   "cell_type": "markdown",
   "id": "cf2d5956",
   "metadata": {},
   "source": [
    "#### 训练过程可视化 "
   ]
  },
  {
   "cell_type": "markdown",
   "id": "e629c612",
   "metadata": {},
   "source": [
    "\n",
    "<div class='insertContainerBox column'>\n",
    "<div class='insertItem' align=center><img src=\"https://mo.zju.edu.cn/hub_api/user/O8JZo8BUrPCdqwa9iLtgtfL-iPuUiQw0QekIQRHHuwNv9F2BH_fuTU7y5ZkVjfH4UA%3D%3D/files/results/process_picture/FC.png\" width=\"500px\"/></div>\n",
    "</div>\n"
   ]
  },
  {
   "cell_type": "markdown",
   "id": "931d8e15",
   "metadata": {},
   "source": [
    "#### 实际例子测试 "
   ]
  },
  {
   "cell_type": "code",
   "execution_count": 50,
   "id": "15b362b1",
   "metadata": {},
   "outputs": [
    {
     "name": "stdout",
     "output_type": "stream",
     "text": [
      "Predicted labels:\n",
      " ['Ankle boot', 'Pullover', 'Trouser', 'Trouser', 'Shirt']\n",
      "Actual labels:\n",
      " ['Ankle boot', 'Pullover', 'Trouser', 'Trouser', 'Shirt']\n"
     ]
    },
    {
     "data": {
      "image/png": "[encoded data removed]",
      "text/plain": [
       "<Figure size 432x288 with 1 Axes>"
      ]
     },
     "metadata": {
      "needs_background": "light"
     },
     "output_type": "display_data"
    }
   ],
   "source": [
    "test_example(fc_net,test_loader)"
   ]
  },
  {
   "cell_type": "markdown",
   "id": "99b3dda6",
   "metadata": {},
   "source": [
    "#### 全部例子测试 "
   ]
  },
  {
   "cell_type": "code",
   "execution_count": 9,
   "id": "517bf7dd",
   "metadata": {},
   "outputs": [
    {
     "name": "stdout",
     "output_type": "stream",
     "text": [
      "Classification Report:\n",
      "              precision    recall  f1-score   support\n",
      "\n",
      " T-shirt/top       0.76      0.90      0.83      1000\n",
      "     Trouser       0.98      0.97      0.98      1000\n",
      "    Pullover       0.82      0.77      0.80      1000\n",
      "       Dress       0.92      0.84      0.88      1000\n",
      "        Coat       0.75      0.88      0.81      1000\n",
      "      Sandal       0.97      0.96      0.96      1000\n",
      "       Shirt       0.77      0.61      0.68      1000\n",
      "     Sneaker       0.94      0.96      0.95      1000\n",
      "         Bag       0.97      0.96      0.97      1000\n",
      "  Ankle boot       0.96      0.96      0.96      1000\n",
      "\n",
      "    accuracy                           0.88     10000\n",
      "   macro avg       0.88      0.88      0.88     10000\n",
      "weighted avg       0.88      0.88      0.88     10000\n",
      "\n"
     ]
    }
   ],
   "source": [
    "test_all(fc_net,test_loader)"
   ]
  },
  {
   "cell_type": "markdown",
   "id": "bff2e7fe",
   "metadata": {},
   "source": [
    "## 模型简介"
   ]
  },
  {
   "cell_type": "markdown",
   "id": "4a270ee3",
   "metadata": {},
   "source": [
    "### LeNet (1989)\n",
    "LeNet是由Yann LeCun等人提出的，用于手写数字识别。它是最早的卷积神经网络之一，对后续的深度学习研究产生了深远影响。  \n",
    "相较于全连接神经网络，卷积神经网络的特性能够更好的处理图像信息，实现对图像特征的提取。"
   ]
  },
  {
   "cell_type": "markdown",
   "id": "1323520b",
   "metadata": {},
   "source": [
    "#### 定义网络结构 "
   ]
  },
  {
   "cell_type": "code",
   "execution_count": 10,
   "id": "064331be",
   "metadata": {},
   "outputs": [],
   "source": [
    "class LeNet(nn.Module):\n",
    "    def __init__(self):\n",
    "        super(LeNet, self).__init__()\n",
    "        self.conv = nn.Sequential(\n",
    "            nn.Conv2d(1, 6, 5), # in_channels, out_channels, kernel_size\n",
    "            nn.Sigmoid(),\n",
    "            nn.MaxPool2d(2, 2), # kernel_size, stride\n",
    "            nn.Conv2d(6, 16, 5),\n",
    "            nn.Sigmoid(),\n",
    "            nn.MaxPool2d(2, 2)\n",
    "        )\n",
    "        self.fc = nn.Sequential(\n",
    "            nn.Linear(16*4*4, 120),\n",
    "            nn.Sigmoid(),\n",
    "            nn.Linear(120, 84),\n",
    "            nn.Sigmoid(),\n",
    "            nn.Linear(84, 10)\n",
    "        )\n",
    "\n",
    "    def forward(self, img):\n",
    "        feature = self.conv(img)\n",
    "        output = self.fc(feature.view(img.shape[0], -1))\n",
    "        return output"
   ]
  },
  {
   "cell_type": "markdown",
   "id": "74e48170",
   "metadata": {},
   "source": [
    "#### 网络实例化 "
   ]
  },
  {
   "cell_type": "code",
   "execution_count": 14,
   "id": "cb3659f9",
   "metadata": {},
   "outputs": [],
   "source": [
    "Lenet = LeNet()\n",
    "Lenet = torch.load('../results/weight/LeNET_mnist.pth',map_location=torch.device('cpu'))"
   ]
  },
  {
   "cell_type": "markdown",
   "id": "ea44340a",
   "metadata": {},
   "source": [
    "#### 训练过程可视化 "
   ]
  },
  {
   "cell_type": "markdown",
   "id": "18dd3162",
   "metadata": {},
   "source": [
    "\n",
    "<div class='insertContainerBox column'>\n",
    "<div class='insertItem' align=center><img src=\"https://mo.zju.edu.cn/hub_api/user/O8JZo8BUrPCdqwa9iLtgtfL-iPuUiQw0QekIQRHHuwNv9F2BH_fuTU7y5ZkVjfH4UA%3D%3D/files/results/process_picture/LeNet.png\" width=\"800px\"/></div>\n",
    "</div>\n",
    "\n"
   ]
  },
  {
   "cell_type": "markdown",
   "id": "52a35096",
   "metadata": {},
   "source": [
    "#### 实际例子测试 "
   ]
  },
  {
   "cell_type": "code",
   "execution_count": 51,
   "id": "d1279c1c",
   "metadata": {},
   "outputs": [
    {
     "name": "stdout",
     "output_type": "stream",
     "text": [
      "Predicted labels:\n",
      " ['Ankle boot', 'Pullover', 'Trouser', 'Trouser', 'Shirt']\n",
      "Actual labels:\n",
      " ['Ankle boot', 'Pullover', 'Trouser', 'Trouser', 'Shirt']\n"
     ]
    },
    {
     "data": {
      "image/png": "[encoded data removed]",
      "text/plain": [
       "<Figure size 432x288 with 1 Axes>"
      ]
     },
     "metadata": {
      "needs_background": "light"
     },
     "output_type": "display_data"
    }
   ],
   "source": [
    "test_example(Lenet,test_loader)"
   ]
  },
  {
   "cell_type": "markdown",
   "id": "17a302ec",
   "metadata": {},
   "source": [
    "#### 整体例子测试 "
   ]
  },
  {
   "cell_type": "code",
   "execution_count": 16,
   "id": "b6f2c20e",
   "metadata": {},
   "outputs": [
    {
     "name": "stdout",
     "output_type": "stream",
     "text": [
      "Classification Report:\n",
      "              precision    recall  f1-score   support\n",
      "\n",
      " T-shirt/top       0.85      0.85      0.85      1000\n",
      "     Trouser       0.99      0.97      0.98      1000\n",
      "    Pullover       0.80      0.85      0.82      1000\n",
      "       Dress       0.89      0.92      0.91      1000\n",
      "        Coat       0.84      0.78      0.81      1000\n",
      "      Sandal       0.98      0.97      0.97      1000\n",
      "       Shirt       0.73      0.71      0.72      1000\n",
      "     Sneaker       0.94      0.97      0.95      1000\n",
      "         Bag       0.97      0.97      0.97      1000\n",
      "  Ankle boot       0.97      0.95      0.96      1000\n",
      "\n",
      "    accuracy                           0.90     10000\n",
      "   macro avg       0.90      0.90      0.90     10000\n",
      "weighted avg       0.90      0.90      0.90     10000\n",
      "\n"
     ]
    }
   ],
   "source": [
    "test_all(Lenet,test_loader)"
   ]
  },
  {
   "cell_type": "markdown",
   "id": "052aebfe",
   "metadata": {},
   "source": [
    "### AlexNet (2012)\n",
    "AlexNet由Alex Krizhevsky等人提出，在ImageNet竞赛中取得了显著成绩，标志着深度学习在计算机视觉领域的突破。  \n",
    "Relu激活函数的引入使得卷积网络在不同层直接的映射和特征提取具有更强大的优势，相较于LeNet，AlexNet通过激活函数获取更好的图像特征提取和分类效果！"
   ]
  },
  {
   "cell_type": "markdown",
   "id": "d34b5078",
   "metadata": {},
   "source": [
    "#### 定义网络结构 "
   ]
  },
  {
   "cell_type": "code",
   "execution_count": 17,
   "id": "7a87756c",
   "metadata": {},
   "outputs": [],
   "source": [
    "class AlexNet(nn.Module):\n",
    "    def __init__(self):\n",
    "        super(AlexNet, self).__init__()\n",
    "        self.features = nn.Sequential(\n",
    "            nn.Conv2d(in_channels=1, out_channels=64, kernel_size=3, stride=1, padding=1),  # 1 通道改为 64\n",
    "            nn.ReLU(),\n",
    "            nn.MaxPool2d(kernel_size=2, stride=2),\n",
    "            nn.Conv2d(in_channels=64, out_channels=128, kernel_size=3, padding=1),\n",
    "            nn.ReLU(),\n",
    "            nn.MaxPool2d(kernel_size=2, stride=2),\n",
    "            nn.Conv2d(in_channels=128, out_channels=256, kernel_size=3, padding=1),\n",
    "            nn.ReLU(),\n",
    "            nn.Conv2d(in_channels=256, out_channels=256, kernel_size=3, padding=1),\n",
    "            nn.ReLU(),\n",
    "            nn.MaxPool2d(kernel_size=2, stride=2)\n",
    "        )\n",
    "        self.classifier = nn.Sequential(\n",
    "            nn.Dropout(),\n",
    "            nn.Linear(256 * 3 * 3, 1024),\n",
    "            nn.ReLU(),\n",
    "            nn.Dropout(),\n",
    "            nn.Linear(1024, 1024),\n",
    "            nn.ReLU(),\n",
    "            nn.Linear(1024, 10)\n",
    "        )\n",
    "\n",
    "    def forward(self, x):\n",
    "        x = self.features(x)\n",
    "        x = torch.flatten(x, 1)\n",
    "        output = self.classifier(x)\n",
    "        return output"
   ]
  },
  {
   "cell_type": "markdown",
   "id": "1753f512",
   "metadata": {},
   "source": [
    "#### 网络实例化"
   ]
  },
  {
   "cell_type": "code",
   "execution_count": 24,
   "id": "7bec2fd0",
   "metadata": {},
   "outputs": [],
   "source": [
    "Alexnet = AlexNet()\n",
    "Alexnet = torch.load('../results/weight/Alexnet_mnist.pth',map_location=torch.device('cpu'))"
   ]
  },
  {
   "cell_type": "markdown",
   "id": "a9365af5",
   "metadata": {},
   "source": [
    "#### 训练过程可视化 "
   ]
  },
  {
   "cell_type": "markdown",
   "id": "0592b22b",
   "metadata": {},
   "source": [
    "\n",
    "<div class='insertContainerBox column'>\n",
    "<div class='insertItem' align=center><img src=\"https://mo.zju.edu.cn/hub_api/user/O8JZo8BUrPCdqwa9iLtgtfL-iPuUiQw0QekIQRHHuwNv9F2BH_fuTU7y5ZkVjfH4UA%3D%3D/files/results/process_picture/AlexNet.png\" width=\"800px\"/></div>\n",
    "</div>\n"
   ]
  },
  {
   "cell_type": "markdown",
   "id": "7bf38c15",
   "metadata": {},
   "source": [
    "#### 实际例子测试 "
   ]
  },
  {
   "cell_type": "code",
   "execution_count": 46,
   "id": "f53a5d31",
   "metadata": {},
   "outputs": [
    {
     "name": "stdout",
     "output_type": "stream",
     "text": [
      "Predicted labels:\n",
      " ['Ankle boot', 'Pullover', 'Trouser', 'Trouser', 'Shirt']\n",
      "Actual labels:\n",
      " ['Ankle boot', 'Pullover', 'Trouser', 'Trouser', 'Shirt']\n"
     ]
    },
    {
     "data": {
      "image/png": "[encoded data removed]",
      "text/plain": [
       "<Figure size 432x288 with 1 Axes>"
      ]
     },
     "metadata": {
      "needs_background": "light"
     },
     "output_type": "display_data"
    }
   ],
   "source": [
    "test_example(Alexnet,test_loader)"
   ]
  },
  {
   "cell_type": "markdown",
   "id": "f5a88f91",
   "metadata": {},
   "source": [
    "#### 整体例子测试 "
   ]
  },
  {
   "cell_type": "code",
   "execution_count": 26,
   "id": "1c432063",
   "metadata": {},
   "outputs": [
    {
     "name": "stdout",
     "output_type": "stream",
     "text": [
      "Classification Report:\n",
      "              precision    recall  f1-score   support\n",
      "\n",
      " T-shirt/top       0.91      0.84      0.87      1000\n",
      "     Trouser       0.99      0.98      0.99      1000\n",
      "    Pullover       0.88      0.89      0.88      1000\n",
      "       Dress       0.94      0.92      0.93      1000\n",
      "        Coat       0.87      0.86      0.87      1000\n",
      "      Sandal       0.99      0.98      0.99      1000\n",
      "       Shirt       0.73      0.81      0.77      1000\n",
      "     Sneaker       0.96      0.99      0.97      1000\n",
      "         Bag       0.99      0.98      0.99      1000\n",
      "  Ankle boot       0.98      0.96      0.97      1000\n",
      "\n",
      "    accuracy                           0.92     10000\n",
      "   macro avg       0.92      0.92      0.92     10000\n",
      "weighted avg       0.92      0.92      0.92     10000\n",
      "\n"
     ]
    }
   ],
   "source": [
    "test_all(Alexnet,test_loader)"
   ]
  },
  {
   "cell_type": "markdown",
   "id": "5054c800",
   "metadata": {},
   "source": [
    "### VGG (2014)\n",
    "VGG由牛津大学的研究团队提出，模型通过增加网络深度（层数）显著提高了图像分类的准确性。  \n",
    "相较于AlexNet卷积网络，Vgg通过增加卷积层的数量来获取更强大的特征提取能力和图像分类能力。"
   ]
  },
  {
   "cell_type": "markdown",
   "id": "282a4536",
   "metadata": {},
   "source": [
    "#### 定义网络结构 "
   ]
  },
  {
   "cell_type": "code",
   "execution_count": 27,
   "id": "2e055d2c",
   "metadata": {},
   "outputs": [],
   "source": [
    "# 定义简化的 VGG 网络\n",
    "class VGGNet(nn.Module):\n",
    "    def __init__(self):\n",
    "        super(VGGNet, self).__init__()\n",
    "        self.features = nn.Sequential(\n",
    "            nn.Conv2d(1, 64, kernel_size=3, padding=1),\n",
    "            nn.ReLU(inplace=True),\n",
    "            nn.MaxPool2d(kernel_size=2, stride=2),\n",
    "            \n",
    "            nn.Conv2d(64, 128, kernel_size=3, padding=1),\n",
    "            nn.ReLU(inplace=True),\n",
    "            nn.MaxPool2d(kernel_size=2, stride=2),\n",
    "            \n",
    "            nn.Conv2d(128, 256, kernel_size=3, padding=1),\n",
    "            nn.ReLU(inplace=True),\n",
    "            nn.Conv2d(256, 256, kernel_size=3, padding=1),\n",
    "            nn.ReLU(inplace=True),\n",
    "            nn.MaxPool2d(kernel_size=2, stride=2),\n",
    "            \n",
    "            nn.Conv2d(256, 512, kernel_size=3, padding=1),\n",
    "            nn.ReLU(inplace=True),\n",
    "            nn.Conv2d(512, 512, kernel_size=3, padding=1),\n",
    "            nn.ReLU(inplace=True),\n",
    "            nn.MaxPool2d(kernel_size=2, stride=2)\n",
    "        )\n",
    "        self.classifier = nn.Sequential(\n",
    "            nn.Linear(512 * 1 * 1, 4096),\n",
    "            nn.ReLU(inplace=True),\n",
    "            nn.Dropout(),\n",
    "            nn.Linear(4096, 4096),\n",
    "            nn.ReLU(inplace=True),\n",
    "            nn.Dropout(),\n",
    "            nn.Linear(4096, 10),\n",
    "        )\n",
    "\n",
    "    def forward(self, x):\n",
    "        x = self.features(x)\n",
    "        x = torch.flatten(x, 1)\n",
    "        x = self.classifier(x)\n",
    "        return x"
   ]
  },
  {
   "cell_type": "markdown",
   "id": "0c2d3754",
   "metadata": {},
   "source": [
    "#### 网络实例化 "
   ]
  },
  {
   "cell_type": "code",
   "execution_count": 28,
   "id": "cef24f05",
   "metadata": {},
   "outputs": [],
   "source": [
    "vggnet = VGGNet()\n",
    "vggnet = torch.load('../results/weight/vggnet_mnist.pth',map_location=torch.device('cpu'))"
   ]
  },
  {
   "cell_type": "markdown",
   "id": "f2501be7",
   "metadata": {},
   "source": [
    "#### 训练过程可视化\n",
    "随着卷积层数量增加，**出现退化现象，loss和acc出现明显的波动**，在改进后的ResNet网络中加入的**残差网络**可以有效减轻这种现象。"
   ]
  },
  {
   "cell_type": "markdown",
   "id": "95bafd00",
   "metadata": {},
   "source": [
    "\n",
    "<div class='insertContainerBox column'>\n",
    "<div class='insertItem' align=center><img src=\"https://mo.zju.edu.cn/hub_api/user/O8JZo8BUrPCdqwa9iLtgtfL-iPuUiQw0QekIQRHHuwNv9F2BH_fuTU7y5ZkVjfH4UA%3D%3D/files/results/process_picture/VggNet.png\" width=\"800px\"/></div>\n",
    "</div>\n"
   ]
  },
  {
   "cell_type": "markdown",
   "id": "b37ef666",
   "metadata": {},
   "source": [
    "#### 实际例子测试 "
   ]
  },
  {
   "cell_type": "code",
   "execution_count": 52,
   "id": "532b7fab",
   "metadata": {},
   "outputs": [
    {
     "name": "stdout",
     "output_type": "stream",
     "text": [
      "Predicted labels:\n",
      " ['Ankle boot', 'Pullover', 'Trouser', 'Trouser', 'T-shirt/top']\n",
      "Actual labels:\n",
      " ['Ankle boot', 'Pullover', 'Trouser', 'Trouser', 'Shirt']\n"
     ]
    },
    {
     "data": {
      "image/png": "[encoded data removed]",
      "text/plain": [
       "<Figure size 432x288 with 1 Axes>"
      ]
     },
     "metadata": {
      "needs_background": "light"
     },
     "output_type": "display_data"
    }
   ],
   "source": [
    "test_example(vggnet,test_loader)"
   ]
  },
  {
   "cell_type": "markdown",
   "id": "edccc218",
   "metadata": {},
   "source": [
    "#### 整体例子测试 "
   ]
  },
  {
   "cell_type": "code",
   "execution_count": 30,
   "id": "a06d27b0",
   "metadata": {},
   "outputs": [
    {
     "name": "stdout",
     "output_type": "stream",
     "text": [
      "Classification Report:\n",
      "              precision    recall  f1-score   support\n",
      "\n",
      " T-shirt/top       0.88      0.83      0.86      1000\n",
      "     Trouser       1.00      0.98      0.99      1000\n",
      "    Pullover       0.85      0.86      0.85      1000\n",
      "       Dress       0.91      0.92      0.91      1000\n",
      "        Coat       0.86      0.87      0.86      1000\n",
      "      Sandal       0.98      0.96      0.97      1000\n",
      "       Shirt       0.72      0.74      0.73      1000\n",
      "     Sneaker       0.92      0.98      0.95      1000\n",
      "         Bag       0.97      0.98      0.98      1000\n",
      "  Ankle boot       0.99      0.95      0.97      1000\n",
      "\n",
      "    accuracy                           0.91     10000\n",
      "   macro avg       0.91      0.91      0.91     10000\n",
      "weighted avg       0.91      0.91      0.91     10000\n",
      "\n"
     ]
    }
   ],
   "source": [
    "test_all(vggnet,test_loader)"
   ]
  },
  {
   "cell_type": "markdown",
   "id": "94c52174",
   "metadata": {},
   "source": [
    "### ResNet (2015)\n",
    "ResNet由微软研究院提出，通过引入残差连接解决了深层神经网络的退化问题，极大地推动了深度学习的发展。  \n",
    "为了解决卷积层增加过程中梯度消失、爆炸的情况，即两层神经网络之间出现了直接线性映射导致神经网络退化，何教授在CVPR发布了残差网路结构，通过一部分低秩矩阵降低信息量，实现网络的优化。"
   ]
  },
  {
   "cell_type": "markdown",
   "id": "a80a6980",
   "metadata": {},
   "source": [
    "#### 定义网络结构 "
   ]
  },
  {
   "cell_type": "code",
   "execution_count": 31,
   "id": "50d3db08",
   "metadata": {},
   "outputs": [],
   "source": [
    "# 定义基本的残差块\n",
    "class BasicBlock(nn.Module):\n",
    "    expansion = 1\n",
    "\n",
    "    def __init__(self, in_planes, planes, stride=1):\n",
    "        super(BasicBlock, self).__init__()\n",
    "        self.conv1 = nn.Conv2d(in_planes, planes, kernel_size=3, stride=stride, padding=1, bias=False)\n",
    "        self.bn1 = nn.BatchNorm2d(planes)\n",
    "        self.conv2 = nn.Conv2d(planes, planes, kernel_size=3, stride=1, padding=1, bias=False)\n",
    "        self.bn2 = nn.BatchNorm2d(planes)\n",
    "\n",
    "        self.shortcut = nn.Sequential()\n",
    "        if stride != 1 or in_planes != self.expansion * planes:\n",
    "            self.shortcut = nn.Sequential(\n",
    "                nn.Conv2d(in_planes, self.expansion * planes, kernel_size=1, stride=stride, bias=False),\n",
    "                nn.BatchNorm2d(self.expansion * planes)\n",
    "            )\n",
    "\n",
    "    def forward(self, x):\n",
    "        out = torch.relu(self.bn1(self.conv1(x)))\n",
    "        out = self.bn2(self.conv2(out))\n",
    "        out += self.shortcut(x)\n",
    "        out = torch.relu(out)\n",
    "        return out\n",
    "\n",
    "class ResNet(nn.Module):\n",
    "    def __init__(self, block, num_blocks, num_classes=10):\n",
    "        super(ResNet, self).__init__()\n",
    "        self.in_planes = 64\n",
    "\n",
    "        self.conv1 = nn.Conv2d(1, 64, kernel_size=3, stride=1, padding=1, bias=False)\n",
    "        self.bn1 = nn.BatchNorm2d(64)\n",
    "        self.layer1 = self._make_layer(block, 64, num_blocks[0], stride=1)\n",
    "        self.layer2 = self._make_layer(block, 128, num_blocks[1], stride=2)\n",
    "        self.layer3 = self._make_layer(block, 256, num_blocks[2], stride=2)\n",
    "        self.layer4 = self._make_layer(block, 512, num_blocks[3], stride=2)\n",
    "        self.linear = nn.Linear(512 * block.expansion * 4 * 4, num_classes)\n",
    "\n",
    "    def _make_layer(self, block, planes, num_blocks, stride):\n",
    "        strides = [stride] + [1] * (num_blocks - 1)\n",
    "        layers = []\n",
    "        for stride in strides:\n",
    "            layers.append(block(self.in_planes, planes, stride))\n",
    "            self.in_planes = planes * block.expansion\n",
    "        return nn.Sequential(*layers)\n",
    "\n",
    "    def forward(self, x):\n",
    "        out = torch.relu(self.bn1(self.conv1(x)))\n",
    "        out = self.layer1(out)\n",
    "        out = self.layer2(out)\n",
    "        out = self.layer3(out)\n",
    "        out = self.layer4(out)\n",
    "        out = torch.flatten(out, 1)\n",
    "        out = self.linear(out)\n",
    "        return out\n",
    "    \n",
    "def ResNet18():\n",
    "    return ResNet(BasicBlock, [2, 2, 2, 2])"
   ]
  },
  {
   "cell_type": "markdown",
   "id": "09a90158",
   "metadata": {},
   "source": [
    "#### 网络实例化 "
   ]
  },
  {
   "cell_type": "code",
   "execution_count": 33,
   "id": "04104e9d",
   "metadata": {},
   "outputs": [],
   "source": [
    "resnet = ResNet18()\n",
    "resnet = torch.load('../results/weight/resnet_mnist.pth',map_location=torch.device('cpu'))"
   ]
  },
  {
   "cell_type": "markdown",
   "id": "d16acb22",
   "metadata": {},
   "source": [
    "#### 训练过程可视化 "
   ]
  },
  {
   "cell_type": "markdown",
   "id": "508b8ffa",
   "metadata": {},
   "source": [
    "\n",
    "<div class='insertContainerBox column'>\n",
    "<div class='insertItem' align=center><img src=\"https://mo.zju.edu.cn/hub_api/user/O8JZo8BUrPCdqwa9iLtgtfL-iPuUiQw0QekIQRHHuwNv9F2BH_fuTU7y5ZkVjfH4UA%3D%3D/files/results/process_picture/ResNet.png\" width=\"800px\"/></div>\n",
    "</div>\n"
   ]
  },
  {
   "cell_type": "markdown",
   "id": "a702c906",
   "metadata": {},
   "source": [
    "#### 实际例子测试 "
   ]
  },
  {
   "cell_type": "code",
   "execution_count": 53,
   "id": "66d38de0",
   "metadata": {},
   "outputs": [
    {
     "name": "stdout",
     "output_type": "stream",
     "text": [
      "Predicted labels:\n",
      " ['Ankle boot', 'Pullover', 'Trouser', 'Trouser', 'T-shirt/top']\n",
      "Actual labels:\n",
      " ['Ankle boot', 'Pullover', 'Trouser', 'Trouser', 'Shirt']\n"
     ]
    },
    {
     "data": {
      "image/png": "[encoded data removed]",
      "text/plain": [
       "<Figure size 432x288 with 1 Axes>"
      ]
     },
     "metadata": {
      "needs_background": "light"
     },
     "output_type": "display_data"
    }
   ],
   "source": [
    "test_example(resnet,test_loader)"
   ]
  },
  {
   "cell_type": "markdown",
   "id": "2a7296d3",
   "metadata": {},
   "source": [
    "#### 整体例子测试 "
   ]
  },
  {
   "cell_type": "code",
   "execution_count": 35,
   "id": "8255998e",
   "metadata": {},
   "outputs": [
    {
     "name": "stdout",
     "output_type": "stream",
     "text": [
      "Classification Report:\n",
      "              precision    recall  f1-score   support\n",
      "\n",
      " T-shirt/top       0.86      0.89      0.88      1000\n",
      "     Trouser       0.99      0.99      0.99      1000\n",
      "    Pullover       0.90      0.92      0.91      1000\n",
      "       Dress       0.93      0.92      0.92      1000\n",
      "        Coat       0.90      0.91      0.90      1000\n",
      "      Sandal       0.99      0.98      0.98      1000\n",
      "       Shirt       0.82      0.77      0.79      1000\n",
      "     Sneaker       0.97      0.97      0.97      1000\n",
      "         Bag       0.98      0.98      0.98      1000\n",
      "  Ankle boot       0.96      0.98      0.97      1000\n",
      "\n",
      "    accuracy                           0.93     10000\n",
      "   macro avg       0.93      0.93      0.93     10000\n",
      "weighted avg       0.93      0.93      0.93     10000\n",
      "\n"
     ]
    }
   ],
   "source": [
    "test_all(resnet,test_loader)"
   ]
  },
  {
   "cell_type": "markdown",
   "id": "51f44294",
   "metadata": {},
   "source": [
    "### DenseNet (2017)\n",
    "DenseNet通过连接每一层到后续的所有层，进一步缓解了梯度消失问题，提高了特征复用效率。"
   ]
  },
  {
   "cell_type": "markdown",
   "id": "5dc1a57c",
   "metadata": {},
   "source": [
    "#### 定义网络结构"
   ]
  },
  {
   "cell_type": "code",
   "execution_count": 36,
   "id": "1624753e",
   "metadata": {},
   "outputs": [],
   "source": [
    "class Bottleneck(nn.Module):\n",
    "    def __init__(self, in_planes, growth_rate):\n",
    "        super(Bottleneck, self).__init__()\n",
    "        self.bn1 = nn.BatchNorm2d(in_planes)\n",
    "        self.conv1 = nn.Conv2d(in_planes, 4 * growth_rate, kernel_size=1, bias=False)\n",
    "        self.bn2 = nn.BatchNorm2d(4 * growth_rate)\n",
    "        self.conv2 = nn.Conv2d(4 * growth_rate, growth_rate, kernel_size=3, padding=1, bias=False)\n",
    "\n",
    "    def forward(self, x):\n",
    "        out = self.conv1(torch.relu(self.bn1(x)))\n",
    "        out = self.conv2(torch.relu(self.bn2(out)))\n",
    "        out = torch.cat([out, x], 1)\n",
    "        return out\n",
    "\n",
    "class Transition(nn.Module):\n",
    "    def __init__(self, in_planes, out_planes):\n",
    "        super(Transition, self).__init__()\n",
    "        self.bn = nn.BatchNorm2d(in_planes)\n",
    "        self.conv = nn.Conv2d(in_planes, out_planes, kernel_size=1, bias=False)\n",
    "\n",
    "    def forward(self, x):\n",
    "        out = self.conv(torch.relu(self.bn(x)))\n",
    "        out = nn.functional.avg_pool2d(out, 2)\n",
    "        return out\n",
    "\n",
    "class DenseNet(nn.Module):\n",
    "    def __init__(self, block, nblocks, growth_rate=12, reduction=0.5, num_classes=10):\n",
    "        super(DenseNet, self).__init__()\n",
    "        self.growth_rate = growth_rate\n",
    "\n",
    "        num_planes = 2 * growth_rate\n",
    "        self.conv1 = nn.Conv2d(1, num_planes, kernel_size=3, padding=1, bias=False)\n",
    "\n",
    "        self.dense1 = self._make_dense_layers(block, num_planes, nblocks[0])\n",
    "        num_planes += nblocks[0] * growth_rate\n",
    "        self.trans1 = Transition(num_planes, num_planes // 2)\n",
    "        num_planes = num_planes // 2\n",
    "\n",
    "        self.dense2 = self._make_dense_layers(block, num_planes, nblocks[1])\n",
    "        num_planes += nblocks[1] * growth_rate\n",
    "        self.trans2 = Transition(num_planes, num_planes // 2)\n",
    "        num_planes = num_planes // 2\n",
    "\n",
    "        self.dense3 = self._make_dense_layers(block, num_planes, nblocks[2])\n",
    "        num_planes += nblocks[2] * growth_rate\n",
    "\n",
    "        self.bn = nn.BatchNorm2d(num_planes)\n",
    "        self.linear = nn.Linear(1536, num_classes)\n",
    "  # 修改全连接层输入维度\n",
    "\n",
    "    def _make_dense_layers(self, block, in_planes, nblock):\n",
    "        layers = []\n",
    "        for _ in range(nblock):\n",
    "            layers.append(block(in_planes, self.growth_rate))\n",
    "            in_planes += self.growth_rate\n",
    "        return nn.Sequential(*layers)\n",
    "\n",
    "    def forward(self, x):\n",
    "        # print(\"Input shape:\", x.shape)\n",
    "        out = self.conv1(x)\n",
    "        # print(\"After Conv1:\", out.shape)\n",
    "        out = self.trans1(self.dense1(out))\n",
    "        # print(\"After Dense1 and Trans1:\", out.shape)\n",
    "        out = self.trans2(self.dense2(out))\n",
    "        # print(\"After Dense2 and Trans2:\", out.shape)\n",
    "        out = self.dense3(out)\n",
    "        # print(\"After Dense3:\", out.shape)\n",
    "        out = torch.relu(self.bn(out))\n",
    "        out = nn.functional.avg_pool2d(out, 3)\n",
    "        # print(\"After final avg pool:\", out.shape)\n",
    "        out = out.view(out.size(0), -1)\n",
    "        # print(\"Before Linear:\", out.shape)\n",
    "        out = self.linear(out)\n",
    "        return out\n",
    "\n",
    "def DenseNet121():\n",
    "    return DenseNet(Bottleneck, [6, 12, 24], growth_rate=12)\n",
    "\n",
    "densenet = DenseNet121().to(device)"
   ]
  },
  {
   "cell_type": "markdown",
   "id": "8d6ea3d3",
   "metadata": {},
   "source": [
    "#### 网络实例化 "
   ]
  },
  {
   "cell_type": "code",
   "execution_count": 37,
   "id": "17eda802",
   "metadata": {},
   "outputs": [],
   "source": [
    "densenet = DenseNet121()\n",
    "densenet = torch.load(\"../results/weight/densenet_mnist.pth\",map_location=torch.device('cpu'))"
   ]
  },
  {
   "cell_type": "markdown",
   "id": "62f4ce65",
   "metadata": {},
   "source": [
    "#### 训练过程可视化 "
   ]
  },
  {
   "cell_type": "markdown",
   "id": "2b8a430a",
   "metadata": {},
   "source": [
    "\n",
    "<div class='insertContainerBox column'>\n",
    "<div class='insertItem' align=center><img src=\"https://mo.zju.edu.cn/hub_api/user/O8JZo8BUrPCdqwa9iLtgtfL-iPuUiQw0QekIQRHHuwNv9F2BH_fuTU7y5ZkVjfH4UA%3D%3D/files/results/process_picture/DenseNet.png\" width=\"800px\"/></div>\n",
    "</div>\n"
   ]
  },
  {
   "cell_type": "markdown",
   "id": "7524e388",
   "metadata": {},
   "source": [
    "#### 实际例子测试 "
   ]
  },
  {
   "cell_type": "code",
   "execution_count": 54,
   "id": "02c60348",
   "metadata": {},
   "outputs": [
    {
     "name": "stdout",
     "output_type": "stream",
     "text": [
      "Predicted labels:\n",
      " ['Ankle boot', 'Pullover', 'Trouser', 'Trouser', 'Shirt']\n",
      "Actual labels:\n",
      " ['Ankle boot', 'Pullover', 'Trouser', 'Trouser', 'Shirt']\n"
     ]
    },
    {
     "data": {
      "image/png": "[encoded data removed]",
      "text/plain": [
       "<Figure size 432x288 with 1 Axes>"
      ]
     },
     "metadata": {
      "needs_background": "light"
     },
     "output_type": "display_data"
    }
   ],
   "source": [
    "test_example(densenet,test_loader)"
   ]
  },
  {
   "cell_type": "markdown",
   "id": "5856725d",
   "metadata": {},
   "source": [
    "#### 整体例子测试 "
   ]
  },
  {
   "cell_type": "code",
   "execution_count": 39,
   "id": "e42dd5e7",
   "metadata": {},
   "outputs": [
    {
     "name": "stdout",
     "output_type": "stream",
     "text": [
      "Classification Report:\n",
      "              precision    recall  f1-score   support\n",
      "\n",
      " T-shirt/top       0.89      0.89      0.89      1000\n",
      "     Trouser       0.99      0.99      0.99      1000\n",
      "    Pullover       0.94      0.89      0.91      1000\n",
      "       Dress       0.94      0.91      0.93      1000\n",
      "        Coat       0.91      0.90      0.91      1000\n",
      "      Sandal       0.99      0.98      0.99      1000\n",
      "       Shirt       0.77      0.84      0.80      1000\n",
      "     Sneaker       0.97      0.98      0.97      1000\n",
      "         Bag       0.99      0.99      0.99      1000\n",
      "  Ankle boot       0.98      0.98      0.98      1000\n",
      "\n",
      "    accuracy                           0.94     10000\n",
      "   macro avg       0.94      0.93      0.94     10000\n",
      "weighted avg       0.94      0.94      0.94     10000\n",
      "\n"
     ]
    }
   ],
   "source": [
    "test_all(densenet,test_loader)"
   ]
  },
  {
   "cell_type": "markdown",
   "id": "01141f0e",
   "metadata": {},
   "source": [
    "## 总结 "
   ]
  },
  {
   "cell_type": "markdown",
   "id": "b112a919",
   "metadata": {},
   "source": [
    "由多层感知机（MLP）为基础的神经网络具有从数据中获取信息并且实现基于特征的目标分类功能。本项目以此为基础，使用了全连接神经网络、LeNet卷积网络、AlexNet卷积网络、Vgg卷积网络、ResNet卷积网络、DenseNet卷积网络实现了对FashionMNIST数据集的分类，并且实现性能、准确率分析。"
   ]
  },
  {
   "cell_type": "markdown",
   "id": "1388e9ab",
   "metadata": {},
   "source": [
    "### 模型对比 "
   ]
  },
  {
   "cell_type": "markdown",
   "id": "00508c19",
   "metadata": {},
   "source": [
    "#### 传统全连接与CNN网络结构对比 "
   ]
  },
  {
   "cell_type": "markdown",
   "id": "ee81f589",
   "metadata": {},
   "source": [
    "\n",
    "\n",
    "*   传统全连接神经网络：运算速度较快，在图像数据量增大、分类增多的情况下，无法实现对特征的精确提取\n",
    "*   CNN神经网络：更适合处理图像类信息，图像像素层面的大量卷积操作导致运算速度慢、算力要求高。具有更强的图像特征提取能力。\n",
    "\n",
    "\n",
    "\n",
    "---\n",
    "\n"
   ]
  },
  {
   "cell_type": "markdown",
   "id": "4cc2cc3e",
   "metadata": {},
   "source": [
    "#### 不同网络结构的CNN神经网络对比 "
   ]
  },
  {
   "cell_type": "markdown",
   "id": "5074a608",
   "metadata": {},
   "source": [
    "\n",
    "\n",
    "*   LeNet卷积网络：首次使用卷积操作处理图像像素层信息来提取图形特征，相较于全连接网络，在处理图像分类任务中效益显著提升，但是运算时长更长。\n",
    "*   AlexNet卷积网络：引入Relu函数，提高了卷积层之间映射效率，大幅提升了特征提取的效益。\n",
    "*   Vgg卷积网络：通过堆叠更多卷积层的方式提高神经网络对特征提取和分类的能力，但是过多卷积层会带来梯度消失或者梯度爆炸的现象，从而出现退化现象，这在“训练过程可视化”部分可以发现，训练过程的loss值和acc等都出现明显的波动，在接下来的ResNet中，添加残差网络层后可以有效改善这种情况。\n",
    "*   ResNet卷积网络：引入残差网络层，有效缓解在网络层数增加过程中出现的梯度消失或者梯度爆炸以及退化现象。\n",
    "*   DenseNet卷积网络：通过连接每一层到后续的所有层，进一步缓解了梯度消失问题，进一步增加的网络结构的复杂性，提高了特征复用效率。\n",
    "---\n",
    "#### CNN卷积神经网络随着时间的推移，主要呈现以下发展特征：\n",
    "\n",
    "\n",
    "*   网络结构逐渐加深，从LeNet较为浅层的网络到DenseNet，卷积网络结构逐渐加深，从而获取更好的特征提取能力。\n",
    "*   网络结构日益复杂，从最开始的卷积层、池化层，再到新引入relu等激活函数，多种池化方式的选择以及残差网络层的引入，对特征提取、消除退化、预防梯度消失和梯度爆炸问题具有显著效益。\n",
    "\n",
    "由此，在针对FashionMNIST数据集的操作上，由古至今，由于以上两点特征，训练和测试时间逐渐增长，对算力的要求更高，这也符合近年来微电子产业的发展趋势！  \n",
    "同时，在预测的准确性上也略有提高，这主要原因是FashionMNIST数据集体量较小，无法体现出较复杂网络的优势，这也受限制于算力，无法对更加大型的数据集进行测试！\n",
    "\n",
    "\n"
   ]
  },
  {
   "cell_type": "markdown",
   "id": "4f1d8471",
   "metadata": {},
   "source": [
    "### 未来展望 "
   ]
  },
  {
   "cell_type": "markdown",
   "id": "9d97bc8f",
   "metadata": {},
   "source": [
    "#### 当前的不足\n",
    "虽然CNN网络在图像像素层上的运算来提取目标特征从而进行目标分类方面具有明显的优势，但是缺点也比较明显:\n",
    "\n",
    "\n",
    "1.   像素层面进行运算，需要有较大算力的支持\n",
    "2.   没有办法实现较大规模的泛化\n",
    "3.   ...\n",
    "\n",
    "#### 未来的大模型与多模态\n",
    "在CNN之后，有更具优势的大模型能够更好的完成相关任务，DenseNet之后，图像分类任务主要由大模型来完成，并且DenseNet中链接每一层到后一层，已经具有了transformer模型的位置编码的雏形！  \n",
    "例如：**扩散模型(Difussion Model)**，其具有以下有点：\n",
    "\n",
    "\n",
    "1.   运算速度：通过编码器(encoder)和解码器(decoder)实现图像像素层面和信息层面的转化，推理部分在**信息层面**进行，从而对算力的要求较低，推理速度较快！\n",
    "2.   泛化能力：在信息层面进行推理，同样可以实现语音、文字等信息层面的推理，从而更好的处理**多模态任务**，具有更强的泛化能力！\n",
    "3.   ...\n",
    "\n"
   ]
  },
  {
   "cell_type": "markdown",
   "id": "3c815d1d",
   "metadata": {},
   "source": [
    "### 心得体会"
   ]
  },
  {
   "cell_type": "markdown",
   "id": "5791f368",
   "metadata": {},
   "source": [
    "通过本次项目的实践，\n",
    "\n",
    "1.   我更加深刻的体会到了CNN卷积神经网络在图像分类任务中的发展历程\n",
    "2.   更加熟练地掌握了torch框架和mindspore框架的使用，已经卷积神经网络的搭建\n",
    "\n",
    "最后承诺，本项目由本人独立完成！  \n",
    "  **在项目任务完成之后，将会对本项目进行开源，发布在个人GitHub主页：\n",
    "[Zh-Qr](https://github.com/Zh-Qr)  **  \n",
    "用于教学，并为学弟学妹们入门机器视觉、图像处理方向引路！\n"
   ]
  }
 ],
 "metadata": {
  "kernelspec": {
   "display_name": "Python 3",
   "language": "python",
   "name": "python3"
  },
  "language_info": {
   "codemirror_mode": {
    "name": "ipython",
    "version": 3
   },
   "file_extension": ".py",
   "mimetype": "text/x-python",
   "name": "python",
   "nbconvert_exporter": "python",
   "pygments_lexer": "ipython3",
   "version": "3.9.5"
  }
 },
 "nbformat": 4,
 "nbformat_minor": 5
}
